{
  "nbformat": 4,
  "nbformat_minor": 0,
  "metadata": {
    "colab": {
      "provenance": []
    },
    "kernelspec": {
      "name": "python3",
      "display_name": "Python 3"
    },
    "language_info": {
      "name": "python"
    }
  },
  "cells": [
    {
      "cell_type": "markdown",
      "source": [
        "**Q1.Explain the key features of Python that make it a popular choice for programming?**\n",
        "\n",
        "Ans. (1) **Simple & Easy to Read:** *italicized text* Python looks almost like English, which makes it easy to learn and understand.\n",
        "\n",
        "\n",
        "(2) ***Versatile:*** You can build websites, automate tasks, analyze data, make games, or even work on AI—all using Python.\n",
        "\n",
        "(3) **Libraries & Frameworks**: Want to do data science? Use Pandas or NumPy. Building a website? Try Django or Flask. Python has tools for almost everything.\n",
        "\n",
        "(4) **Cross-platform:** You can write code on Windows, Mac, or Linux.\n",
        "\n",
        "\n",
        "\n",
        "\n",
        "\n",
        "\n"
      ],
      "metadata": {
        "id": "CkbTkcsOWDRd"
      }
    },
    {
      "cell_type": "markdown",
      "source": [
        "**Q2.Describe the role of predefined keywords in Python and provide examples of how they are used in a program**\n",
        "\n",
        "\n",
        "# Ans . Predefined keywords are **reserved words *in  Python. You **cannot use them as variable names because they have special meanings.**\n",
        "\n",
        "Examples: if, for, while, def, True, False, etc.\n",
        "\n"
      ],
      "metadata": {
        "id": "Od-d6Z-HYi1U"
      }
    },
    {
      "cell_type": "code",
      "source": [
        "# if statement\n",
        "day = 'sunday'\n",
        "if day == 'sunday':\n",
        "  print('keep sleeping')\n",
        "\n",
        "\n",
        "\n",
        "\n",
        "#for loop - iterate over a sequence of elements >> strings , list\n",
        "for i in range(0,11,1):\n",
        "  print(i)\n",
        "\n",
        "#while\n",
        "n=7\n",
        "i=1\n",
        "while i < n:\n",
        "    print(i)\n",
        "    i = i+1\n",
        "else:\n",
        "    print('THE END')"
      ],
      "metadata": {
        "colab": {
          "base_uri": "https://localhost:8080/"
        },
        "id": "xQwtS9jOagV3",
        "outputId": "0b1eaae1-dbb7-44e0-bfda-dedf122e8480"
      },
      "execution_count": 8,
      "outputs": [
        {
          "output_type": "stream",
          "name": "stdout",
          "text": [
            "keep sleeping\n",
            "0\n",
            "1\n",
            "2\n",
            "3\n",
            "4\n",
            "5\n",
            "6\n",
            "7\n",
            "8\n",
            "9\n",
            "10\n",
            "1\n",
            "2\n",
            "3\n",
            "4\n",
            "5\n",
            "6\n",
            "THE END\n"
          ]
        }
      ]
    },
    {
      "cell_type": "markdown",
      "source": [
        "**Q3. Compare and contrast mutable and immutable objects in Python with examples.**\n",
        "\n",
        "\n",
        "1.   **Mutable: Can be changed after creation(Editable)**\n",
        "2.   **Immutable: Cannot be changed after creation(Fixed)**\n",
        "\n",
        "\n",
        "\n",
        "\n",
        "\n",
        "          "
      ],
      "metadata": {
        "id": "f-u3_XAPb_vy"
      }
    },
    {
      "cell_type": "code",
      "source": [
        "#Mutable\n",
        "\n",
        "my_list = [1, 2, 3]\n",
        "my_list.append(4)\n",
        "print(my_list)  # [1, 2, 3, 4]\n"
      ],
      "metadata": {
        "colab": {
          "base_uri": "https://localhost:8080/"
        },
        "id": "cbB4fpZ8djjG",
        "outputId": "ed752fb3-77ce-4837-bc65-1fd5cdad24ce"
      },
      "execution_count": 9,
      "outputs": [
        {
          "output_type": "stream",
          "name": "stdout",
          "text": [
            "[1, 2, 3, 4]\n"
          ]
        }
      ]
    },
    {
      "cell_type": "code",
      "source": [
        "#Immutbale\n",
        "my_string = \"hello\"\n",
        "my_string[0] = 'y'   # This will throw an error!\n",
        "\n"
      ],
      "metadata": {
        "colab": {
          "base_uri": "https://localhost:8080/",
          "height": 193
        },
        "id": "wq-qL2kadoAV",
        "outputId": "fd509251-9f68-4ff7-a9f9-53f269cabc01"
      },
      "execution_count": 10,
      "outputs": [
        {
          "output_type": "error",
          "ename": "TypeError",
          "evalue": "'str' object does not support item assignment",
          "traceback": [
            "\u001b[0;31m---------------------------------------------------------------------------\u001b[0m",
            "\u001b[0;31mTypeError\u001b[0m                                 Traceback (most recent call last)",
            "\u001b[0;32m<ipython-input-10-222e678e8a4e>\u001b[0m in \u001b[0;36m<cell line: 0>\u001b[0;34m()\u001b[0m\n\u001b[1;32m      1\u001b[0m \u001b[0;31m#Immutbale\u001b[0m\u001b[0;34m\u001b[0m\u001b[0;34m\u001b[0m\u001b[0m\n\u001b[1;32m      2\u001b[0m \u001b[0mmy_string\u001b[0m \u001b[0;34m=\u001b[0m \u001b[0;34m\"hello\"\u001b[0m\u001b[0;34m\u001b[0m\u001b[0;34m\u001b[0m\u001b[0m\n\u001b[0;32m----> 3\u001b[0;31m \u001b[0mmy_string\u001b[0m\u001b[0;34m[\u001b[0m\u001b[0;36m0\u001b[0m\u001b[0;34m]\u001b[0m \u001b[0;34m=\u001b[0m \u001b[0;34m'y'\u001b[0m  \u001b[0;31m# This will throw an error!\u001b[0m\u001b[0;34m\u001b[0m\u001b[0;34m\u001b[0m\u001b[0m\n\u001b[0m\u001b[1;32m      4\u001b[0m \u001b[0;34m\u001b[0m\u001b[0m\n",
            "\u001b[0;31mTypeError\u001b[0m: 'str' object does not support item assignment"
          ]
        }
      ]
    },
    {
      "cell_type": "markdown",
      "source": [],
      "metadata": {
        "id": "Vn7UfPMhd3T0"
      }
    },
    {
      "cell_type": "markdown",
      "source": [
        "Q4. **Discuss the different types of operators in Python and provide examples of how they are used**.\n",
        "\n",
        "\n",
        "# The different types of operators in python are as follows"
      ],
      "metadata": {
        "id": "UlKlynK4eVws"
      }
    },
    {
      "cell_type": "code",
      "source": [
        "# Arithematic Operators : + , - , * , /\n",
        "print(2 + 3)\n"
      ],
      "metadata": {
        "colab": {
          "base_uri": "https://localhost:8080/"
        },
        "id": "arLgIVAQexl0",
        "outputId": "85819b98-3b9f-40cd-d6de-195cbc36bd9a"
      },
      "execution_count": 11,
      "outputs": [
        {
          "output_type": "stream",
          "name": "stdout",
          "text": [
            "5\n"
          ]
        }
      ]
    },
    {
      "cell_type": "code",
      "source": [
        "#Comparison Operators : == , !=, > ,<\n",
        "print(5 > 3)\n",
        "\n"
      ],
      "metadata": {
        "colab": {
          "base_uri": "https://localhost:8080/"
        },
        "id": "AbLu0sXJfGHA",
        "outputId": "fd583454-570c-4901-aaaa-3aeef0b7883b"
      },
      "execution_count": 12,
      "outputs": [
        {
          "output_type": "stream",
          "name": "stdout",
          "text": [
            "True\n"
          ]
        }
      ]
    },
    {
      "cell_type": "code",
      "source": [
        "#Logical Operators  : and , or , not\n",
        "print(True and False)  # False\n",
        "print(True and True)   # True\n",
        "print(True or False )  # True"
      ],
      "metadata": {
        "colab": {
          "base_uri": "https://localhost:8080/"
        },
        "id": "WdTO0lYLfOeP",
        "outputId": "362f548b-4c79-4eec-81b0-3ac7f668310d"
      },
      "execution_count": 15,
      "outputs": [
        {
          "output_type": "stream",
          "name": "stdout",
          "text": [
            "False\n",
            "True\n",
            "True\n"
          ]
        }
      ]
    },
    {
      "cell_type": "code",
      "source": [
        "#Assignment operators : = , += , -=\n",
        "x = 10\n",
        "x += 5  # x is now 15\n",
        "print(x)\n",
        "\n"
      ],
      "metadata": {
        "colab": {
          "base_uri": "https://localhost:8080/"
        },
        "id": "JR3Bed9yf5z2",
        "outputId": "5e75b053-e9c8-4870-a00c-45f031b7b1c0"
      },
      "execution_count": 20,
      "outputs": [
        {
          "output_type": "stream",
          "name": "stdout",
          "text": [
            "15\n"
          ]
        }
      ]
    },
    {
      "cell_type": "code",
      "source": [
        "#Membership operators : in , not in\n",
        "print(\"a\" in \"apple\")  # True\n"
      ],
      "metadata": {
        "colab": {
          "base_uri": "https://localhost:8080/"
        },
        "id": "41yx9xeFgFu2",
        "outputId": "e6638326-b985-4359-ac02-0e862fe52f79"
      },
      "execution_count": 21,
      "outputs": [
        {
          "output_type": "stream",
          "name": "stdout",
          "text": [
            "True\n"
          ]
        }
      ]
    },
    {
      "cell_type": "markdown",
      "source": [
        "Q5. **Explain the concept of type casting in Python with examples.**\n",
        "\n",
        "Ans. **Type casting means changing one data type to another.**"
      ],
      "metadata": {
        "id": "P4yG3S6SgnXU"
      }
    },
    {
      "cell_type": "code",
      "source": [
        "#Example\n",
        "\n",
        "x = \"10\"\n",
        "y = int(x)  # Converts string \"10\" to integer 10\n",
        "print(y + 5)  # 15\n",
        "\n"
      ],
      "metadata": {
        "colab": {
          "base_uri": "https://localhost:8080/"
        },
        "id": "fkeRZoXSg6Qi",
        "outputId": "20a01fbe-d4ef-4865-93e5-07945f956535"
      },
      "execution_count": 22,
      "outputs": [
        {
          "output_type": "stream",
          "name": "stdout",
          "text": [
            "15\n"
          ]
        }
      ]
    },
    {
      "cell_type": "markdown",
      "source": [
        "**Other common ones can be: **\n",
        "\n",
        "1.   int() convert to integer\n",
        "2.   float()  convert to float\n",
        "3.   str()  convert to string\n",
        "\n",
        "\n",
        "\n",
        "\n"
      ],
      "metadata": {
        "id": "wT11hF23hD-b"
      }
    },
    {
      "cell_type": "markdown",
      "source": [
        "Q6. **How do conditional statements work in Python? Illustrate with examples**\n",
        "\n",
        "Ans. **Conditional statements help the program decide what to do based on conditions.**\n",
        "\n"
      ],
      "metadata": {
        "id": "DBA6wAqehh65"
      }
    },
    {
      "cell_type": "code",
      "source": [
        "#examples\n",
        "#program to find out whether a person is eligible to vote or not\n",
        "age=18\n",
        "if age >= 18:\n",
        "  print(\"eligible\")\n",
        "else:\n",
        "  print('not eligible')\n",
        "\n",
        "\n",
        "\n",
        "# program to find out whether a person is rich or middle class\n",
        "tickets = 'business'\n",
        "if tickets == 'business':\n",
        "  print('rich')\n",
        "elif tickets == 'economy':\n",
        "  print('middle class')\n",
        "else:\n",
        "  print('they could not travel')\n",
        "\n"
      ],
      "metadata": {
        "colab": {
          "base_uri": "https://localhost:8080/"
        },
        "id": "WC0goTNQh1b3",
        "outputId": "a0ad701d-764b-4f8b-f1fa-48e114a2fbf6"
      },
      "execution_count": 24,
      "outputs": [
        {
          "output_type": "stream",
          "name": "stdout",
          "text": [
            "eligible\n",
            "rich\n"
          ]
        }
      ]
    },
    {
      "cell_type": "markdown",
      "source": [
        "**Q7. Describe the different types of loops in Python and their use cases with examples**\n",
        "\n",
        "# Ans. Python has two main types of loops:\n",
        "\n",
        "\n",
        "*   for loop - used when you know how many times to run\n",
        "*   While loop - used when you want to loop until a condition is false\n",
        "\n"
      ],
      "metadata": {
        "id": "tgTXKzE4jRt7"
      }
    },
    {
      "cell_type": "markdown",
      "source": [],
      "metadata": {
        "id": "k9ZeSBOYjiPy"
      }
    },
    {
      "cell_type": "code",
      "source": [
        "# for loop\n",
        "for i in range (10):\n",
        "  print(i)"
      ],
      "metadata": {
        "colab": {
          "base_uri": "https://localhost:8080/"
        },
        "id": "SZUkrLZ0j1BZ",
        "outputId": "ddca8cc2-d8d7-4ac7-f88e-500ff70f5912"
      },
      "execution_count": 25,
      "outputs": [
        {
          "output_type": "stream",
          "name": "stdout",
          "text": [
            "0\n",
            "1\n",
            "2\n",
            "3\n",
            "4\n",
            "5\n",
            "6\n",
            "7\n",
            "8\n",
            "9\n"
          ]
        }
      ]
    },
    {
      "cell_type": "code",
      "source": [
        "#While loop\n",
        "x = 1\n",
        "while x <= 5:\n",
        "    print(x)\n",
        "    x += 1\n"
      ],
      "metadata": {
        "colab": {
          "base_uri": "https://localhost:8080/"
        },
        "id": "DxmMzeqdkAZZ",
        "outputId": "e177ec8c-65d0-4a09-9405-205c89f95cb1"
      },
      "execution_count": 26,
      "outputs": [
        {
          "output_type": "stream",
          "name": "stdout",
          "text": [
            "1\n",
            "2\n",
            "3\n",
            "4\n",
            "5\n"
          ]
        }
      ]
    }
  ]
}