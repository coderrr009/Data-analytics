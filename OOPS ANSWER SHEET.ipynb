{
  "cells": [
    {
      "cell_type": "markdown",
      "id": "34d9e482",
      "metadata": {
        "id": "34d9e482"
      },
      "source": [
        "# Python OOPs Assignment\n",
        "## Theory and Practical Questions"
      ]
    },
    {
      "cell_type": "markdown",
      "id": "c96069f7",
      "metadata": {
        "id": "c96069f7"
      },
      "source": [
        "## 🧠 Theory Questions"
      ]
    },
    {
      "cell_type": "markdown",
      "id": "a33b0e02",
      "metadata": {
        "id": "a33b0e02"
      },
      "source": [
        "### 1. What is Object-Oriented Programming (OOP)?\n",
        "**Answer:** Object-Oriented Programming (OOP) is a programming paradigm based on the concept of \"objects\", which can contain data (attributes) and code (methods). Python supports OOP and allows developers to create reusable, modular, and scalable code\n"
      ]
    },
    {
      "cell_type": "markdown",
      "id": "f303e676",
      "metadata": {
        "id": "f303e676"
      },
      "source": [
        "### 2. What is a class in OOP?\n",
        "**Answer:** A class is a blueprint for creating objects. It defines a set of attributes and methods that the created objects (instances) will have.\n"
      ]
    },
    {
      "cell_type": "markdown",
      "id": "471f66ea",
      "metadata": {
        "id": "471f66ea"
      },
      "source": [
        "### 3. What is an object in OOP?\n",
        "**Answer:** An object is an instance of a class. It contains actual values for the attributes defined in the class and can access the class methods\n"
      ]
    },
    {
      "cell_type": "markdown",
      "id": "67cc493a",
      "metadata": {
        "id": "67cc493a"
      },
      "source": [
        "### 4. What is the difference between abstraction and encapsulation?\n",
        "**Answer:**\n",
        "\n",
        "\n",
        "1. Abstraction hides the internal details and shows only relevant functionality.\n",
        "\n",
        "2. Encapsulation wraps data and methods into a single unit and restricts direct access to some components using access modifiers\n",
        "\n"
      ]
    },
    {
      "cell_type": "markdown",
      "id": "41c1641a",
      "metadata": {
        "id": "41c1641a"
      },
      "source": [
        "### 5. What are dunder methods in Python?\n",
        "**Answer:** Dunder methods are special methods in Python that start and end with double underscores (e.g., __init__, __str__). They allow customization of basic behavior like initialization, string conversion, operator overloading, etc.\n",
        "\n"
      ]
    },
    {
      "cell_type": "markdown",
      "id": "6ad0f203",
      "metadata": {
        "id": "6ad0f203"
      },
      "source": [
        "### 6. Explain the concept of inheritance in OOP.\n",
        "**Answer:** Inheritance allows a class (child) to acquire the properties and methods of another class (parent), promoting code reuse and hierarchical classification."
      ]
    },
    {
      "cell_type": "markdown",
      "id": "bc9bdef9",
      "metadata": {
        "id": "bc9bdef9"
      },
      "source": [
        "### 7. What is polymorphism in OOP?\n",
        "**Answer:** Polymorphism means \"many forms\". It allows different classes to define methods with the same name but potentially different behaviors.\n"
      ]
    },
    {
      "cell_type": "markdown",
      "id": "dd5d331c",
      "metadata": {
        "id": "dd5d331c"
      },
      "source": [
        "### 8. How is encapsulation achieved in Python?\n",
        "**Answer:** Encapsulation is implemented using access specifiers:\n",
        "\n",
        "1. Public (default)\n",
        "\n",
        "2. Protected (single underscore _var)\n",
        "\n",
        "3. Private (double underscore __var)\n",
        "\n",
        "It restricts access and helps in data hiding.\n"
      ]
    },
    {
      "cell_type": "markdown",
      "id": "a64396df",
      "metadata": {
        "id": "a64396df"
      },
      "source": [
        "### 9. What is a constructor in Python?\n",
        "**Answer:** A constructor is a special method (__init__) used to initialize the attributes of an object when it is created.\n"
      ]
    },
    {
      "cell_type": "markdown",
      "id": "d128b8ee",
      "metadata": {
        "id": "d128b8ee"
      },
      "source": [
        "### 10. What are class and static methods in Python?\n",
        "**Answer:** Class Method uses the @classmethod decorator and takes cls as the first argument.\n",
        "\n",
        "Static Method uses the @staticmethod decorator and doesn’t take any special first argument.\n"
      ]
    },
    {
      "cell_type": "markdown",
      "id": "d55e64a9",
      "metadata": {
        "id": "d55e64a9"
      },
      "source": [
        "### 11. What is method overloading in Python?\n",
        "**Answer:** Python doesn’t support method overloading directly. However, it can be mimicked using default arguments or *args/**kwargs.\n",
        ""
      ]
    },
    {
      "cell_type": "markdown",
      "id": "92e8ad37",
      "metadata": {
        "id": "92e8ad37"
      },
      "source": [
        "### 12. What is method overriding in OOP?\n",
        "**Answer:** Method overriding occurs when a child class provides a specific implementation of a method already defined in its parent class.\n"
      ]
    },
    {
      "cell_type": "markdown",
      "id": "e7eace39",
      "metadata": {
        "id": "e7eace39"
      },
      "source": [
        "### 13. What is a property decorator in Python?\n",
        "**Answer:** The  property decorator is used to define getter methods that can be accessed like attributes, enabling encapsulation of private data\n"
      ]
    },
    {
      "cell_type": "markdown",
      "id": "d92d7afe",
      "metadata": {
        "id": "d92d7afe"
      },
      "source": [
        "### 14. Why is polymorphism important in OOP?\n",
        "**Answer:**  Polymorphism enables different classes to be treated as instances of the same class through a common interface, enhancing flexibility and scalability.\n",
        ""
      ]
    },
    {
      "cell_type": "markdown",
      "id": "d448c85f",
      "metadata": {
        "id": "d448c85f"
      },
      "source": [
        "### 15. What is an abstract class in Python?\n",
        "**Answer:** An abstract class cannot be instantiated and may contain abstract methods that must be implemented in subclasses. It's defined using the abc module.\n",
        ""
      ]
    },
    {
      "cell_type": "markdown",
      "id": "8fed84ca",
      "metadata": {
        "id": "8fed84ca"
      },
      "source": [
        "### 16. What are the advantages of OOP?\n",
        "**Answer:**\n",
        "\n",
        "\n",
        "\n",
        "*   Modularity\n",
        "*   Reusability\n",
        "\n",
        "*   Scalability\n",
        "*   Maintainability\n",
        "\n",
        "*   Data hiding   \n",
        "\n",
        "\n",
        "\n",
        "\n",
        "\n",
        "\n",
        "\n",
        "\n"
      ]
    },
    {
      "cell_type": "markdown",
      "id": "6352578a",
      "metadata": {
        "id": "6352578a"
      },
      "source": [
        "### 17. What is the difference between a class variable and an instance variable?\n",
        "**Answer:**\n",
        "*  Class Variable is shared across all instances.\n",
        "\n",
        "*  Instance Variable is unique to each object.\n",
        "\n",
        "\n"
      ]
    },
    {
      "cell_type": "markdown",
      "id": "b5379f46",
      "metadata": {
        "id": "b5379f46"
      },
      "source": [
        "### 18. What is multiple inheritance in Python?\n",
        "**Answer:** When a class inherits from more than one parent class, it is called multiple inheritance. Python supports it and resolves conflicts using the Method Resolution Order (MRO).\n",
        "\n",
        "\n"
      ]
    },
    {
      "cell_type": "markdown",
      "id": "acc426bc",
      "metadata": {
        "id": "acc426bc"
      },
      "source": [
        "### 19. Explain the purpose of `__str__` and `__repr__` methods in Python.\n",
        "**Answer:**  \n",
        "* __str__ returns a user-friendly string representation.\n",
        "\n",
        "* __repr__ returns an official string representation for debugging.\n"
      ]
    },
    {
      "cell_type": "markdown",
      "id": "a9360df7",
      "metadata": {
        "id": "a9360df7"
      },
      "source": [
        "### 20. What is the significance of the `super()` function in Python?\n",
        "**Answer:** super() is used to call a method from the parent class. It’s often used in constructors and method overriding to maintain parent behavior.\n"
      ]
    },
    {
      "cell_type": "markdown",
      "id": "0292103c",
      "metadata": {
        "id": "0292103c"
      },
      "source": [
        "### 21. What is the significance of the `__del__` method in Python?\n",
        "**Answer:** __del__ is a destructor method called when an object is deleted or destroyed to clean up resources\n"
      ]
    },
    {
      "cell_type": "markdown",
      "id": "5777d374",
      "metadata": {
        "id": "5777d374"
      },
      "source": [
        "### 22. What is the difference between `@staticmethod` and `@classmethod` in Python?\n",
        "**Answer:**  \n",
        "* @staticmethod: No access to class or instance; behaves like a regular function.\n",
        "\n",
        "* @classmethod: Accesses the class (cls) but not instance-specific data.\n"
      ]
    },
    {
      "cell_type": "markdown",
      "id": "ee64961b",
      "metadata": {
        "id": "ee64961b"
      },
      "source": [
        "### 23. How does polymorphism work in Python with inheritance?\n",
        "**Answer:** By defining a method in both parent and child classes with the same name, and calling it through a common interface. Python dynamically resolves the correct method at runtime."
      ]
    },
    {
      "cell_type": "markdown",
      "id": "7b269258",
      "metadata": {
        "id": "7b269258"
      },
      "source": [
        "### 24. What is method chaining in Python OOP?\n",
        "**Answer:** Method chaining is calling multiple methods on the same object in a single line by returning self from each method.\n"
      ]
    },
    {
      "cell_type": "markdown",
      "id": "1e3074fd",
      "metadata": {
        "id": "1e3074fd"
      },
      "source": [
        "### 25. What is the purpose of the `__call__` method in Python?\n",
        "**Answer:** The __call__ method allows an object to be called like a function. It’s used in decorators, caching, and making objects behave like callable functions.\n",
        "\n",
        "\n"
      ]
    },
    {
      "cell_type": "markdown",
      "id": "7456632a",
      "metadata": {
        "id": "7456632a"
      },
      "source": [
        "## 🛠️ Practical Questions"
      ]
    },
    {
      "cell_type": "markdown",
      "id": "413cdbbc",
      "metadata": {
        "id": "413cdbbc"
      },
      "source": [
        "### Q1. 1. Create a parent class Animal with a method speak() that prints a generic message. Create a child class Dog that overrides the speak() method to print 'Bark!'."
      ]
    },
    {
      "cell_type": "code",
      "execution_count": 2,
      "id": "bbb304a9",
      "metadata": {
        "colab": {
          "base_uri": "https://localhost:8080/"
        },
        "id": "bbb304a9",
        "outputId": "8fe29d19-9194-4484-bbc2-e929f21cd5bc"
      },
      "outputs": [
        {
          "output_type": "stream",
          "name": "stdout",
          "text": [
            "Animal makes a sound.\n",
            "Dog barks.\n"
          ]
        }
      ],
      "source": [
        "class Animal:\n",
        "    def speak(self):\n",
        "        print(\"Animal makes a sound.\")\n",
        "\n",
        "class Dog(Animal):\n",
        "    def speak(self):\n",
        "        print(\"Dog barks.\")\n",
        "\n",
        "# Test\n",
        "a = Animal()\n",
        "a.speak()\n",
        "\n",
        "d = Dog()\n",
        "d.speak()\n",
        "\n"
      ]
    },
    {
      "cell_type": "markdown",
      "id": "68dcb47d",
      "metadata": {
        "id": "68dcb47d"
      },
      "source": [
        "### Q2. 2. Write a program to create an abstract class Shape with a method area(). Derive classes Circle and Rectangle from it and implement the area() method in both."
      ]
    },
    {
      "cell_type": "code",
      "execution_count": 3,
      "id": "71cda7f4",
      "metadata": {
        "colab": {
          "base_uri": "https://localhost:8080/"
        },
        "id": "71cda7f4",
        "outputId": "40ac9f05-6016-4c59-e902-e575f21e55a8"
      },
      "outputs": [
        {
          "output_type": "stream",
          "name": "stdout",
          "text": [
            "Name: John, Age: 22\n"
          ]
        }
      ],
      "source": [
        "class Person:\n",
        "    def __init__(self, name, age):\n",
        "        self.name = name\n",
        "        self.age = age\n",
        "\n",
        "    def display(self):\n",
        "        print(f\"Name: {self.name}, Age: {self.age}\")\n",
        "\n",
        "# Test\n",
        "p = Person(\"John\", 22)\n",
        "p.display()\n"
      ]
    },
    {
      "cell_type": "markdown",
      "id": "fe9f19d5",
      "metadata": {
        "id": "fe9f19d5"
      },
      "source": [
        "### Q3. 3. Implement a multi-level inheritance scenario where a class Vehicle has an attribute type. Derive a class Car and further derive a class ElectricCar that adds a battery attribute."
      ]
    },
    {
      "cell_type": "code",
      "execution_count": 4,
      "id": "71b0d738",
      "metadata": {
        "colab": {
          "base_uri": "https://localhost:8080/"
        },
        "id": "71b0d738",
        "outputId": "8fe2a5ac-59f3-4cb7-e750-cc1223964708"
      },
      "outputs": [
        {
          "output_type": "stream",
          "name": "stdout",
          "text": [
            "Area: 15\n",
            "Perimeter: 16\n"
          ]
        }
      ],
      "source": [
        "class Rectangle:\n",
        "    def __init__(self, length, width):\n",
        "        self.length = length\n",
        "        self.width = width\n",
        "\n",
        "    def area(self):\n",
        "        return self.length * self.width\n",
        "\n",
        "    def perimeter(self):\n",
        "        return 2 * (self.length + self.width)\n",
        "\n",
        "# Test\n",
        "r = Rectangle(5, 3)\n",
        "print(\"Area:\", r.area())\n",
        "print(\"Perimeter:\", r.perimeter())\n"
      ]
    },
    {
      "cell_type": "markdown",
      "id": "13c4e90e",
      "metadata": {
        "id": "13c4e90e"
      },
      "source": [
        "### Q4. 4. Demonstrate polymorphism by creating a base class Bird with a method fly(). Create two derived classes Sparrow and Penguin that override the fly() method."
      ]
    },
    {
      "cell_type": "code",
      "execution_count": 5,
      "id": "43583353",
      "metadata": {
        "colab": {
          "base_uri": "https://localhost:8080/"
        },
        "id": "43583353",
        "outputId": "03239357-d818-44b2-a87f-cef34556ed31"
      },
      "outputs": [
        {
          "output_type": "stream",
          "name": "stdout",
          "text": [
            "This is a vehicle.\n",
            "This is a car.\n"
          ]
        }
      ],
      "source": [
        "class Vehicle:\n",
        "    def display_info(self):\n",
        "        print(\"This is a vehicle.\")\n",
        "\n",
        "class Car(Vehicle):\n",
        "    def display_info(self):\n",
        "        print(\"This is a car.\")\n",
        "\n",
        "# Test\n",
        "v = Vehicle()\n",
        "v.display_info()\n",
        "\n",
        "c = Car()\n",
        "c.display_info()\n"
      ]
    },
    {
      "cell_type": "markdown",
      "id": "cb74792d",
      "metadata": {
        "id": "cb74792d"
      },
      "source": [
        "### Q5. 5. Write a program to demonstrate encapsulation by creating a class BankAccount with private attributes balance and methods to deposit, withdraw, and check balance."
      ]
    },
    {
      "cell_type": "code",
      "execution_count": null,
      "id": "33d94dc8",
      "metadata": {
        "id": "33d94dc8"
      },
      "outputs": [],
      "source": [
        "class Student:\n",
        "    def __init__(self, name, grade):\n",
        "        self.name = name\n",
        "        self.__grade = grade\n",
        "\n",
        "    def get_grade(self):\n",
        "        return self.__grade\n",
        "\n",
        "    def set_grade(self, grade):\n",
        "        if 0 <= grade <= 100:\n",
        "            self.__grade = grade\n",
        "        else:\n",
        "            print(\"Invalid grade!\")\n",
        "\n",
        "# Test\n",
        "s = Student(\"Alice\", 85)\n",
        "print(\"Grade:\", s.get_grade())\n",
        "s.set_grade(90)\n",
        "print(\"Updated Grade:\", s.get_grade())\n"
      ]
    },
    {
      "cell_type": "markdown",
      "id": "91e83275",
      "metadata": {
        "id": "91e83275"
      },
      "source": [
        "### Q6. 6. Demonstrate runtime polymorphism using a method play() in a base class Instrument. Derive classes Guitar and Piano that implement their own version of play()."
      ]
    },
    {
      "cell_type": "code",
      "execution_count": null,
      "id": "f6965c37",
      "metadata": {
        "id": "f6965c37"
      },
      "outputs": [],
      "source": [
        "from abc import ABC, abstractmethod\n",
        "import math\n",
        "\n",
        "class Shape(ABC):\n",
        "    @abstractmethod\n",
        "    def area(self):\n",
        "        pass\n",
        "\n",
        "class Circle(Shape):\n",
        "    def __init__(self, radius):\n",
        "        self.radius = radius\n",
        "\n",
        "    def area(self):\n",
        "        return math.pi * self.radius ** 2\n",
        "\n",
        "class Square(Shape):\n",
        "    def __init__(self, side):\n",
        "        self.side = side\n",
        "\n",
        "    def area(self):\n",
        "        return self.side ** 2\n",
        "\n",
        "# Test\n",
        "c = Circle(3)\n",
        "s = Square(4)\n",
        "print(\"Circle Area:\", c.area())\n",
        "print(\"Square Area:\", s.area())\n"
      ]
    },
    {
      "cell_type": "markdown",
      "id": "12d6bb51",
      "metadata": {
        "id": "12d6bb51"
      },
      "source": [
        "### Q7. 7. Create a class MathOperations with a class method add_numbers() to add two numbers and a static method subtract_numbers() to subtract two numbers."
      ]
    },
    {
      "cell_type": "code",
      "execution_count": null,
      "id": "020b5472",
      "metadata": {
        "id": "020b5472"
      },
      "outputs": [],
      "source": [
        "class Employee:\n",
        "    def __init__(self, name, basic_salary):\n",
        "        self.name = name\n",
        "        self.basic_salary = basic_salary\n",
        "\n",
        "    def calculate_salary(self):\n",
        "        hra = 0.10 * self.basic_salary\n",
        "        da = 0.05 * self.basic_salary\n",
        "        return self.basic_salary + hra + da\n",
        "\n",
        "# Test\n",
        "e = Employee(\"Ravi\", 20000)\n",
        "print(\"Total Salary:\", e.calculate_salary())\n"
      ]
    },
    {
      "cell_type": "markdown",
      "id": "2b9b782f",
      "metadata": {
        "id": "2b9b782f"
      },
      "source": [
        "### Q8. 8. Implement a class Person with a class method to count the total number of persons created."
      ]
    },
    {
      "cell_type": "code",
      "execution_count": 6,
      "id": "45b20643",
      "metadata": {
        "colab": {
          "base_uri": "https://localhost:8080/"
        },
        "id": "45b20643",
        "outputId": "6549005a-e34f-4741-b30a-64a794e1a6f5"
      },
      "outputs": [
        {
          "output_type": "stream",
          "name": "stdout",
          "text": [
            "Holder: Anuj, Balance: 1200\n"
          ]
        }
      ],
      "source": [
        "class BankAccount:\n",
        "    def __init__(self, holder, balance=0):\n",
        "        self.holder = holder\n",
        "        self.balance = balance\n",
        "\n",
        "    def deposit(self, amount):\n",
        "        self.balance += amount\n",
        "\n",
        "    def withdraw(self, amount):\n",
        "        if amount <= self.balance:\n",
        "            self.balance -= amount\n",
        "        else:\n",
        "            print(\"Insufficient balance.\")\n",
        "\n",
        "    def display(self):\n",
        "        print(f\"Holder: {self.holder}, Balance: {self.balance}\")\n",
        "\n",
        "# Test\n",
        "b = BankAccount(\"Anuj\", 1000)\n",
        "b.deposit(500)\n",
        "b.withdraw(300)\n",
        "b.display()\n"
      ]
    },
    {
      "cell_type": "markdown",
      "id": "a777726d",
      "metadata": {
        "id": "a777726d"
      },
      "source": [
        "### Q9. 9. Write a class Fraction with attributes numerator and denominator. Override the str method to display the fraction as 'numerator/denominator'."
      ]
    },
    {
      "cell_type": "code",
      "execution_count": 7,
      "id": "a9989cb8",
      "metadata": {
        "colab": {
          "base_uri": "https://localhost:8080/"
        },
        "id": "a9989cb8",
        "outputId": "8e5a4657-8879-4a97-8378-5c03fe8d7c09"
      },
      "outputs": [
        {
          "output_type": "stream",
          "name": "stdout",
          "text": [
            "Sum: 6 + 8i\n"
          ]
        }
      ],
      "source": [
        "class ComplexNumber:\n",
        "    def __init__(self, real, imag):\n",
        "        self.real = real\n",
        "        self.imag = imag\n",
        "\n",
        "    def __add__(self, other):\n",
        "        return ComplexNumber(self.real + other.real, self.imag + other.imag)\n",
        "\n",
        "    def __str__(self):\n",
        "        return f\"{self.real} + {self.imag}i\"\n",
        "\n",
        "# Test\n",
        "c1 = ComplexNumber(2, 3)\n",
        "c2 = ComplexNumber(4, 5)\n",
        "result = c1 + c2\n",
        "print(\"Sum:\", result)"
      ]
    },
    {
      "cell_type": "markdown",
      "id": "76efd861",
      "metadata": {
        "id": "76efd861"
      },
      "source": [
        "### Q10. 10. Demonstrate operator overloading by creating a class Vector and overriding the add method to add two vectors."
      ]
    },
    {
      "cell_type": "code",
      "execution_count": null,
      "id": "5e6bd2e1",
      "metadata": {
        "id": "5e6bd2e1"
      },
      "outputs": [],
      "source": [
        "class Calculator:\n",
        "    def add(self, a, b=0, c=0):\n",
        "        return a + b + c\n",
        "\n",
        "# Test\n",
        "calc = Calculator()\n",
        "print(\"Add 2+3:\", calc.add(2, 3))\n",
        "print(\"Add 1+2+3:\", calc.add(1, 2, 3))\n"
      ]
    },
    {
      "cell_type": "markdown",
      "id": "2070adec",
      "metadata": {
        "id": "2070adec"
      },
      "source": [
        "### Q11. 11. Create a class Person with attributes name and age. Add a method greet() that prints 'Hello, my name is {name} and I am {age} years old.'"
      ]
    },
    {
      "cell_type": "code",
      "execution_count": null,
      "id": "5ad4f527",
      "metadata": {
        "id": "5ad4f527"
      },
      "outputs": [],
      "source": [
        "class Parent:\n",
        "    def greet(self):\n",
        "        print(\"Hello from Parent\")\n",
        "\n",
        "class Child(Parent):\n",
        "    def greet(self):\n",
        "        print(\"Hello from Child\")\n",
        "\n",
        "# Test\n",
        "p = Parent()\n",
        "c = Child()\n",
        "p.greet()\n",
        "c.greet()\n"
      ]
    },
    {
      "cell_type": "markdown",
      "id": "cfa8d701",
      "metadata": {
        "id": "cfa8d701"
      },
      "source": [
        "### Q12. 12. Implement a class Student with attributes name and grades. Create a method average_grade() to compute the average of the grades."
      ]
    },
    {
      "cell_type": "code",
      "execution_count": null,
      "id": "ca87166f",
      "metadata": {
        "id": "ca87166f"
      },
      "outputs": [],
      "source": [
        "class MyString:\n",
        "    def __init__(self, text):\n",
        "        self.text = text\n",
        "\n",
        "    def __len__(self):\n",
        "        return len(self.text)\n",
        "\n",
        "# Test\n",
        "s = MyString(\"Hello\")\n",
        "print(\"Length:\", len(s))\n"
      ]
    },
    {
      "cell_type": "markdown",
      "id": "da81fccd",
      "metadata": {
        "id": "da81fccd"
      },
      "source": [
        "### Q13. 13. Create a class Rectangle with methods set_dimensions() to set the dimensions and area() to calculate the area."
      ]
    },
    {
      "cell_type": "code",
      "execution_count": null,
      "id": "cd3e4009",
      "metadata": {
        "id": "cd3e4009"
      },
      "outputs": [],
      "source": [
        "try:\n",
        "    a = int(input(\"Enter numerator: \"))\n",
        "    b = int(input(\"Enter denominator: \"))\n",
        "    result = a / b\n",
        "    print(\"Result:\", result)\n",
        "except ZeroDivisionError:\n",
        "    print(\"Cannot divide by zero.\")\n",
        "except ValueError:\n",
        "    print(\"Invalid input. Please enter numbers.\")\n"
      ]
    },
    {
      "cell_type": "markdown",
      "id": "62c3d58b",
      "metadata": {
        "id": "62c3d58b"
      },
      "source": [
        "### Q14. 14. Create a class Employee with a method calculate_salary() that computes the salary based on hours worked and hourly rate. Create a derived class Manager that adds a bonus to the salary."
      ]
    },
    {
      "cell_type": "code",
      "execution_count": 8,
      "id": "20ff46b7",
      "metadata": {
        "colab": {
          "base_uri": "https://localhost:8080/"
        },
        "id": "20ff46b7",
        "outputId": "76153b49-e4cd-44c4-a49c-05942febc60f"
      },
      "outputs": [
        {
          "output_type": "stream",
          "name": "stdout",
          "text": [
            "File created and written.\n"
          ]
        }
      ],
      "source": [
        "with open(\"sample.txt\", \"w\") as file:\n",
        "    file.write(\"This is a sample file.\\nWritten using Python.\")\n",
        "print(\"File created and written.\")\n"
      ]
    },
    {
      "cell_type": "markdown",
      "id": "9c8fe2e6",
      "metadata": {
        "id": "9c8fe2e6"
      },
      "source": [
        "### Q15. 15. Create a class Product with attributes name, price, and quantity. Implement a method total_price() that calculates the total price of the product."
      ]
    },
    {
      "cell_type": "code",
      "execution_count": null,
      "id": "3c60600d",
      "metadata": {
        "id": "3c60600d"
      },
      "outputs": [],
      "source": [
        "class Product:\n",
        "    def __init__(self, name, price, quantity):\n",
        "        self.name = name\n",
        "        self.price = price\n",
        "        self.quantity = quantity\n",
        "\n",
        "    def total_price(self):\n",
        "        return self.price * self.quantity\n",
        "\n",
        "# Test\n",
        "p = Product(\"Laptop\", 50000, 2)\n",
        "print(\"Total Price:\", p.total_price())\n"
      ]
    },
    {
      "cell_type": "markdown",
      "id": "a9794197",
      "metadata": {
        "id": "a9794197"
      },
      "source": [
        "### Q16. 16. Create a class Animal with an abstract method sound(). Create two derived classes Cow and Sheep that implement the sound() method."
      ]
    },
    {
      "cell_type": "code",
      "execution_count": 9,
      "id": "44105385",
      "metadata": {
        "colab": {
          "base_uri": "https://localhost:8080/"
        },
        "id": "44105385",
        "outputId": "9964ac6e-8b5e-4631-e970-432f5342adde"
      },
      "outputs": [
        {
          "output_type": "stream",
          "name": "stdout",
          "text": [
            "Cow says: Moo\n",
            "Sheep says: Baa\n"
          ]
        }
      ],
      "source": [
        "from abc import ABC, abstractmethod\n",
        "\n",
        "class Animal(ABC):\n",
        "    @abstractmethod\n",
        "    def sound(self):\n",
        "        pass\n",
        "\n",
        "class Cow(Animal):\n",
        "    def sound(self):\n",
        "        return \"Moo\"\n",
        "\n",
        "class Sheep(Animal):\n",
        "    def sound(self):\n",
        "        return \"Baa\"\n",
        "\n",
        "# Test\n",
        "print(\"Cow says:\", Cow().sound())\n",
        "print(\"Sheep says:\", Sheep().sound())\n"
      ]
    },
    {
      "cell_type": "markdown",
      "id": "d8cce75f",
      "metadata": {
        "id": "d8cce75f"
      },
      "source": [
        "### Q17. 17. Create a class Book with attributes title, author, and year_published. Add a method get_book_info() that returns a formatted string with the book's details."
      ]
    },
    {
      "cell_type": "code",
      "source": [
        "class Book:\n",
        "    def __init__(self, title, author, year_published):\n",
        "        self.title = title\n",
        "        self.author = author\n",
        "        self.year_published = year_published\n",
        "\n",
        "    def get_book_info(self):\n",
        "        return f\"{self.title} by {self.author}, published in {self.year_published}\"\n",
        "\n",
        "# Test\n",
        "book = Book(\"Atomic Habits\", \"James Clear\", 2018)\n",
        "print(book.get_book_info())\n"
      ],
      "metadata": {
        "colab": {
          "base_uri": "https://localhost:8080/"
        },
        "id": "90Aix0zqu5Yd",
        "outputId": "e2c5f4b4-36e3-48a1-e4b6-20d15d47a114"
      },
      "id": "90Aix0zqu5Yd",
      "execution_count": 10,
      "outputs": [
        {
          "output_type": "stream",
          "name": "stdout",
          "text": [
            "Atomic Habits by James Clear, published in 2018\n"
          ]
        }
      ]
    },
    {
      "cell_type": "markdown",
      "id": "42bde38c",
      "metadata": {
        "id": "42bde38c"
      },
      "source": [
        "### Q18. 18. Create a class House with attributes address and price. Create a derived class Mansion that adds an attribute number_of_rooms."
      ]
    },
    {
      "cell_type": "code",
      "execution_count": null,
      "id": "5255c433",
      "metadata": {
        "id": "5255c433"
      },
      "outputs": [],
      "source": [
        "class House:\n",
        "    def __init__(self, address, price):\n",
        "        self.address = address\n",
        "        self.price = price\n",
        "\n",
        "class Mansion(House):\n",
        "    def __init__(self, address, price, number_of_rooms):\n",
        "        super().__init__(address, price)\n",
        "        self.number_of_rooms = number_of_rooms\n",
        "\n",
        "# Test\n",
        "m = Mansion(\"123 Beverly Hills\", 2000000, 12)\n",
        "print(f\"Address: {m.address}, Price: {m.price}, Rooms: {m.number_of_rooms}\")\n"
      ]
    }
  ],
  "metadata": {
    "colab": {
      "provenance": []
    },
    "language_info": {
      "name": "python"
    },
    "kernelspec": {
      "name": "python3",
      "display_name": "Python 3"
    }
  },
  "nbformat": 4,
  "nbformat_minor": 5
}