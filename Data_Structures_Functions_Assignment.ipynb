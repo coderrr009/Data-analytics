{
 "cells": [
  {
   "cell_type": "markdown",
   "id": "954779db",
   "metadata": {},
   "source": [
    "# Data Structures & Functions Assignment\n"
   ]
  },
  {
   "cell_type": "markdown",
   "id": "44f30099",
   "metadata": {},
   "source": [
    "## 📚 Theory Questions"
   ]
  },
  {
   "cell_type": "markdown",
   "id": "ea91f567",
   "metadata": {},
   "source": [
    "\n",
    "### 1. Difference between Function and Method\n",
    "- **Function**: Independent block of code.\n",
    "- **Method**: Function bound to an object.\n",
    "\n",
    "**Example:**\n",
    "```python\n",
    "def add(a, b):\n",
    "    return a + b\n",
    "\n",
    "list_obj = [1, 2]\n",
    "list_obj.append(3)  # append() is a method\n",
    "```\n",
    "---\n",
    "### 2. Function Arguments vs Parameters\n",
    "- **Parameter**: Variable inside function definition.\n",
    "- **Argument**: Actual value passed during function call.\n",
    "\n",
    "**Example:**\n",
    "```python\n",
    "def greet(name):\n",
    "    print(\"Hello\", name)\n",
    "\n",
    "greet(\"Alice\")\n",
    "```\n",
    "---\n",
    "### 3. Ways to Define and Call Functions\n",
    "- Using `def`\n",
    "- Using `lambda`\n",
    "- Methods inside classes\n",
    "\n",
    "**Example:**\n",
    "```python\n",
    "def square(x):\n",
    "    return x * x\n",
    "\n",
    "square(4)\n",
    "```\n",
    "---\n",
    "### 4. Purpose of return Statement\n",
    "- To return value from function to caller.\n",
    "\n",
    "**Example:**\n",
    "```python\n",
    "def sum(a, b):\n",
    "    return a + b\n",
    "```\n",
    "---\n",
    "### 5. Iterators vs Iterables\n",
    "- **Iterable**: Can return an iterator.\n",
    "- **Iterator**: Has `__next__()` method.\n",
    "\n",
    "**Example:**\n",
    "```python\n",
    "my_list = [1, 2, 3]\n",
    "it = iter(my_list)\n",
    "print(next(it))\n",
    "```\n",
    "---\n",
    "### 6. Concept of Generators\n",
    "- Functions with `yield` to produce sequence lazily.\n",
    "\n",
    "**Example:**\n",
    "```python\n",
    "def gen():\n",
    "    yield 1\n",
    "    yield 2\n",
    "```\n",
    "---\n",
    "### 7. Advantages of Generators\n",
    "- Memory efficient, lazy loading.\n",
    "\n",
    "---\n",
    "### 8. Lambda Function\n",
    "- Anonymous single-expression functions.\n",
    "\n",
    "**Example:**\n",
    "```python\n",
    "add = lambda x, y: x + y\n",
    "```\n",
    "---\n",
    "### 9. Purpose of map()\n",
    "- Applies a function to every element of an iterable.\n",
    "\n",
    "**Example:**\n",
    "```python\n",
    "map(lambda x: x*2, [1,2,3])\n",
    "```\n",
    "---\n",
    "### 10. Difference between map(), reduce(), filter()\n",
    "- **map()**: Applies function.\n",
    "- **filter()**: Filters based on condition.\n",
    "- **reduce()**: Reduces to single value.\n",
    "\n",
    "**Example:**\n",
    "```python\n",
    "from functools import reduce\n",
    "\n",
    "list(map(lambda x:x*x, [1,2,3]))\n",
    "list(filter(lambda x:x%2==0, [1,2,3,4]))\n",
    "reduce(lambda x,y: x+y, [1,2,3,4])\n",
    "```\n",
    "---\n",
    "### 11. Internal Mechanism for Reduce Sum Operation\n",
    "List: [47,11,42,13]\n",
    "Steps:\n",
    "- 47 + 11 = 58\n",
    "- 58 + 42 = 100\n",
    "- 100 + 13 = 113\n",
    "Result = 113\n"
   ]
  },
  {
   "cell_type": "markdown",
   "id": "792cd38e",
   "metadata": {},
   "source": [
    "## 🧪 Practical Questions"
   ]
  },
  {
   "cell_type": "markdown",
   "id": "8125364c",
   "metadata": {},
   "source": [
    "### 1. Sum of Even Numbers"
   ]
  },
  {
   "cell_type": "code",
   "execution_count": null,
   "id": "806718b8",
   "metadata": {},
   "outputs": [],
   "source": [
    "def sum_even(numbers):\n",
    "    return sum(num for num in numbers if num % 2 == 0)"
   ]
  },
  {
   "cell_type": "markdown",
   "id": "5d30cf94",
   "metadata": {},
   "source": [
    "### 2. Reverse a String"
   ]
  },
  {
   "cell_type": "code",
   "execution_count": null,
   "id": "487995ee",
   "metadata": {},
   "outputs": [],
   "source": [
    "def reverse_string(s):\n",
    "    return s[::-1]"
   ]
  },
  {
   "cell_type": "markdown",
   "id": "48472ff4",
   "metadata": {},
   "source": [
    "### 3. Squares of List Elements"
   ]
  },
  {
   "cell_type": "code",
   "execution_count": null,
   "id": "3ee1e81f",
   "metadata": {},
   "outputs": [],
   "source": [
    "def squares_list(lst):\n",
    "    return [x**2 for x in lst]"
   ]
  },
  {
   "cell_type": "markdown",
   "id": "ad334cfc",
   "metadata": {},
   "source": [
    "### 4. Prime Numbers from 1 to 200"
   ]
  },
  {
   "cell_type": "code",
   "execution_count": null,
   "id": "ca126470",
   "metadata": {},
   "outputs": [],
   "source": [
    "def is_prime(n):\n",
    "    if n < 2:\n",
    "        return False\n",
    "    for i in range(2, int(n**0.5)+1):\n",
    "        if n % i == 0:\n",
    "            return False\n",
    "    return True\n",
    "\n",
    "primes = [x for x in range(1, 201) if is_prime(x)]\n",
    "print(primes)"
   ]
  },
  {
   "cell_type": "markdown",
   "id": "55672142",
   "metadata": {},
   "source": [
    "### 5. Fibonacci Iterator"
   ]
  },
  {
   "cell_type": "code",
   "execution_count": null,
   "id": "73a291d8",
   "metadata": {},
   "outputs": [],
   "source": [
    "class Fibonacci:\n",
    "    def __init__(self, terms):\n",
    "        self.terms = terms\n",
    "        self.a, self.b = 0, 1\n",
    "        self.count = 0\n",
    "\n",
    "    def __iter__(self):\n",
    "        return self\n",
    "\n",
    "    def __next__(self):\n",
    "        if self.count < self.terms:\n",
    "            num = self.a\n",
    "            self.a, self.b = self.b, self.a + self.b\n",
    "            self.count += 1\n",
    "            return num\n",
    "        else:\n",
    "            raise StopIteration"
   ]
  },
  {
   "cell_type": "markdown",
   "id": "81b0eacc",
   "metadata": {},
   "source": [
    "### 6. Generator for Powers of 2"
   ]
  },
  {
   "cell_type": "code",
   "execution_count": null,
   "id": "555ba3bb",
   "metadata": {},
   "outputs": [],
   "source": [
    "def power_of_two(exponent):\n",
    "    for i in range(exponent + 1):\n",
    "        yield 2 ** i"
   ]
  },
  {
   "cell_type": "markdown",
   "id": "a8533dcc",
   "metadata": {},
   "source": [
    "### 7. Generator to Read File Line by Line"
   ]
  },
  {
   "cell_type": "code",
   "execution_count": null,
   "id": "c0460e30",
   "metadata": {},
   "outputs": [],
   "source": [
    "def read_file_line_by_line(filename):\n",
    "    with open(filename, 'r') as file:\n",
    "        for line in file:\n",
    "            yield line.strip()"
   ]
  },
  {
   "cell_type": "markdown",
   "id": "bb076f16",
   "metadata": {},
   "source": [
    "### 8. Lambda to Sort List of Tuples"
   ]
  },
  {
   "cell_type": "code",
   "execution_count": null,
   "id": "8cabe7d6",
   "metadata": {},
   "outputs": [],
   "source": [
    "tuples_list = [(1, 3), (2, 2), (3, 1)]\n",
    "sorted_list = sorted(tuples_list, key=lambda x: x[1])\n",
    "print(sorted_list)"
   ]
  },
  {
   "cell_type": "markdown",
   "id": "1f6629df",
   "metadata": {},
   "source": [
    "### 9. Convert Celsius to Fahrenheit Using map()"
   ]
  },
  {
   "cell_type": "code",
   "execution_count": null,
   "id": "990bfead",
   "metadata": {},
   "outputs": [],
   "source": [
    "celsius = [0, 10, 20, 30]\n",
    "fahrenheit = list(map(lambda c: (c * 9/5) + 32, celsius))\n",
    "print(fahrenheit)"
   ]
  },
  {
   "cell_type": "markdown",
   "id": "23bbe7d2",
   "metadata": {},
   "source": [
    "### 10. Filter to Remove Vowels"
   ]
  },
  {
   "cell_type": "code",
   "execution_count": null,
   "id": "fd041196",
   "metadata": {},
   "outputs": [],
   "source": [
    "def remove_vowels(s):\n",
    "    vowels = \"aeiouAEIOU\"\n",
    "    return ''.join(filter(lambda x: x not in vowels, s))\n",
    "\n",
    "print(remove_vowels(\"Hello World\"))"
   ]
  },
  {
   "cell_type": "markdown",
   "id": "1e61ff71",
   "metadata": {},
   "source": [
    "### 11. Accounting Routine with Lambda and Map"
   ]
  },
  {
   "cell_type": "code",
   "execution_count": null,
   "id": "39f4d3db",
   "metadata": {},
   "outputs": [],
   "source": [
    "orders = [\n",
    "    ['34587', 'Learning Python, Mark Lutz', 4, 40.95],\n",
    "    ['98762', 'Programming Python, Mark Lutz', 5, 56.80],\n",
    "    ['77226', 'Head First Python, Paul Barry', 3, 32.95],\n",
    "    ['88112', 'Einführung in Python3, Bernd Klein', 3, 24.99]\n",
    "]\n",
    "\n",
    "final_order = list(map(lambda order: (order[0], order[2]*order[3] + (10 if order[2]*order[3] < 100 else 0)), orders))\n",
    "print(final_order)"
   ]
  }
 ],
 "metadata": {},
 "nbformat": 4,
 "nbformat_minor": 5
}
