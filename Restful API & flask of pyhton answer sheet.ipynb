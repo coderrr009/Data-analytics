{
  "cells": [
    {
      "cell_type": "markdown",
      "id": "a1f86734",
      "metadata": {
        "id": "a1f86734"
      },
      "source": [
        "### Q1. What is a RESTful API\n",
        "A RESTful API (Representational State Transfer) is an architectural style for designing networked applications. It uses standard HTTP methods (GET, POST, PUT, DELETE) to access and manipulate data. RESTful APIs are stateless, scalable, and easy to cache, making them ideal for web services."
      ]
    },
    {
      "cell_type": "markdown",
      "id": "88d0d68e",
      "metadata": {
        "id": "88d0d68e"
      },
      "source": [
        "### Q2. Explain the concept of API specification\n",
        "API specification defines how an API behaves, what endpoints are available, what data it expects and returns, and which protocols and formats it uses. OpenAPI (formerly Swagger) is a common tool used for defining RESTful API specifications."
      ]
    },
    {
      "cell_type": "markdown",
      "id": "63d2dd4f",
      "metadata": {
        "id": "63d2dd4f"
      },
      "source": [
        "### Q3. What is Flask, and why is it popular for building APIs\n",
        "Flask is a lightweight Python web framework. It's popular for building APIs because of its simplicity, flexibility, and a large number of extensions. Flask is beginner-friendly and allows quick prototyping."
      ]
    },
    {
      "cell_type": "markdown",
      "id": "37f2729f",
      "metadata": {
        "id": "37f2729f"
      },
      "source": [
        "### Q4. What is routing in Flask\n",
        "Routing in Flask maps URLs to functions. It uses the `@app.route()` decorator to bind a URL to a Python function that returns a response."
      ]
    },
    {
      "cell_type": "markdown",
      "id": "165bbc3b",
      "metadata": {
        "id": "165bbc3b"
      },
      "source": [
        "### Q5. How do you create a simple Flask application\n",
        "```python\n",
        "from flask import Flask\n",
        "app = Flask(__name__)\n",
        "\n",
        "@app.route('/')\n",
        "def home():\n",
        "    return 'Hello, Flask!'\n",
        "\n",
        "if __name__ == '__main__':\n",
        "    app.run(debug=True)\n",
        "```"
      ]
    },
    {
      "cell_type": "markdown",
      "id": "1f102421",
      "metadata": {
        "id": "1f102421"
      },
      "source": [
        "### Q6. What are HTTP methods used in RESTful APIs\n",
        "The primary HTTP methods used are:\n",
        "- GET: Retrieve data\n",
        "- POST: Create new data\n",
        "- PUT: Update existing data\n",
        "- DELETE: Delete data"
      ]
    },
    {
      "cell_type": "markdown",
      "id": "53732df1",
      "metadata": {
        "id": "53732df1"
      },
      "source": [
        "### Q7. What is the purpose of the @app.route() decorator in Flask\n",
        "It defines the route (URL) at which a function should be triggered. For example, `@app.route('/')` binds the root URL to a function."
      ]
    },
    {
      "cell_type": "markdown",
      "id": "def0cb7e",
      "metadata": {
        "id": "def0cb7e"
      },
      "source": [
        "### Q8. What is the difference between GET and POST HTTP methods\n",
        "- GET retrieves data without modifying the server state.\n",
        "- POST sends data to the server, usually resulting in a change (e.g., creating a record)."
      ]
    },
    {
      "cell_type": "markdown",
      "id": "eb3cf6f3",
      "metadata": {
        "id": "eb3cf6f3"
      },
      "source": [
        "### Q9. How do you handle errors in Flask APIs\n",
        "Use Flask's errorhandler:\n",
        "```python\n",
        "@app.errorhandler(404)\n",
        "def not_found(e):\n",
        "    return 'Page not found', 404\n",
        "```"
      ]
    },
    {
      "cell_type": "markdown",
      "id": "8cc40af4",
      "metadata": {
        "id": "8cc40af4"
      },
      "source": [
        "### Q10. How do you connect Flask to a SQL database\n",
        "Use Flask-SQLAlchemy:\n",
        "```python\n",
        "from flask_sqlalchemy import SQLAlchemy\n",
        "app.config['SQLALCHEMY_DATABASE_URI'] = 'sqlite:///db.sqlite3'\n",
        "db = SQLAlchemy(app)\n",
        "```"
      ]
    },
    {
      "cell_type": "markdown",
      "id": "bea46216",
      "metadata": {
        "id": "bea46216"
      },
      "source": [
        "### Q11. What is the role of Flask-SQLAlchemy\n",
        "It provides ORM (Object-Relational Mapping) support, allowing you to interact with the database using Python classes instead of SQL queries."
      ]
    },
    {
      "cell_type": "markdown",
      "id": "819a03e0",
      "metadata": {
        "id": "819a03e0"
      },
      "source": [
        "### Q12. What are Flask blueprints, and how are they useful\n",
        "Blueprints allow you to organize your Flask application into smaller components or modules. They help with code modularity and scalability."
      ]
    },
    {
      "cell_type": "markdown",
      "id": "18ced4cb",
      "metadata": {
        "id": "18ced4cb"
      },
      "source": [
        "### Q13. What is the purpose of Flask's request object\n",
        "The `request` object provides access to incoming request data like form data, JSON, headers, and method."
      ]
    },
    {
      "cell_type": "markdown",
      "id": "a1d374da",
      "metadata": {
        "id": "a1d374da"
      },
      "source": [
        "### Q14. How do you create a RESTful API endpoint using Flask\n",
        "```python\n",
        "@app.route('/api/data', methods=['GET'])\n",
        "def get_data():\n",
        "    return {'data': 'sample'}\n",
        "```"
      ]
    },
    {
      "cell_type": "markdown",
      "id": "5ddcc5f8",
      "metadata": {
        "id": "5ddcc5f8"
      },
      "source": [
        "### Q15. What is the purpose of Flask's jsonify() function\n",
        "It converts a Python dictionary to a JSON response with appropriate headers."
      ]
    },
    {
      "cell_type": "markdown",
      "id": "c26e5efa",
      "metadata": {
        "id": "c26e5efa"
      },
      "source": [
        "### Q16. Explain Flask’s url_for() function\n",
        "Generates a URL for a given function name. Useful for dynamically linking routes.\n",
        "```python\n",
        "url_for('home')\n",
        "```"
      ]
    },
    {
      "cell_type": "markdown",
      "id": "8f19f7f7",
      "metadata": {
        "id": "8f19f7f7"
      },
      "source": [
        "### Q17. How does Flask handle static files (CSS, JavaScript, etc.)\n",
        "Place static files in the `/static` directory and access them via `/static/filename`."
      ]
    },
    {
      "cell_type": "markdown",
      "id": "aca29a21",
      "metadata": {
        "id": "aca29a21"
      },
      "source": [
        "### Q18. What is an API specification, and how does it help in building a Flask API\n",
        "It outlines the endpoints, methods, inputs, outputs, and errors. It ensures consistency and aids documentation and collaboration."
      ]
    },
    {
      "cell_type": "markdown",
      "id": "a9a489e7",
      "metadata": {
        "id": "a9a489e7"
      },
      "source": [
        "### Q19. What are HTTP status codes, and why are they important in a Flask API\n",
        "They indicate the result of an HTTP request (e.g., 200 OK, 404 Not Found, 500 Server Error). Helps clients understand the response."
      ]
    },
    {
      "cell_type": "markdown",
      "id": "ed3a8462",
      "metadata": {
        "id": "ed3a8462"
      },
      "source": [
        "### Q20. How do you handle POST requests in Flask\n",
        "```python\n",
        "@app.route('/submit', methods=['POST'])\n",
        "def submit():\n",
        "    data = request.form['data']\n",
        "    return 'Data received'\n",
        "```"
      ]
    },
    {
      "cell_type": "markdown",
      "id": "f5c6ab91",
      "metadata": {
        "id": "f5c6ab91"
      },
      "source": [
        "### Q21. How would you secure a Flask API\n",
        "Use HTTPS, authentication (e.g., JWT), input validation, rate limiting, and proper error handling."
      ]
    },
    {
      "cell_type": "markdown",
      "id": "c4a2d3b9",
      "metadata": {
        "id": "c4a2d3b9"
      },
      "source": [
        "### Q22. What is the significance of the Flask-RESTful extension\n",
        "It simplifies the creation of REST APIs using Flask by adding support for resource routing, input parsing, and more."
      ]
    },
    {
      "cell_type": "markdown",
      "id": "a94faea5",
      "metadata": {
        "id": "a94faea5"
      },
      "source": [
        "### Q23. What is the role of Flask’s session object?\n",
        "It stores user-specific data between requests. Useful for login systems and user preferences."
      ]
    },
    {
      "cell_type": "markdown",
      "id": "Y5sj8UL2jiGO",
      "metadata": {
        "id": "Y5sj8UL2jiGO"
      },
      "source": [
        "# Practical Questions\n"
      ]
    },
    {
      "cell_type": "markdown",
      "id": "VfMCpbdqjoBW",
      "metadata": {
        "id": "VfMCpbdqjoBW"
      },
      "source": [
        "Q1. How do you create a basic Flask application ?\n",
        "\n",
        "Ans 1. We can create a basic  Flask application by the following code"
      ]
    },
    {
      "cell_type": "code",
      "execution_count": null,
      "id": "xs6BUt56kH3s",
      "metadata": {
        "colab": {
          "background_save": true,
          "base_uri": "https://localhost:8080/"
        },
        "id": "xs6BUt56kH3s",
        "outputId": "eed85bfe-8a2c-476a-d9e6-f02ed6a39d3a"
      },
      "outputs": [
        {
          "metadata": {
            "tags": null
          },
          "name": "stdout",
          "output_type": "stream",
          "text": [
            " * Serving Flask app '__main__'\n",
            " * Debug mode: on\n"
          ]
        },
        {
          "metadata": {
            "tags": null
          },
          "name": "stderr",
          "output_type": "stream",
          "text": [
            "INFO:werkzeug:\u001b[31m\u001b[1mWARNING: This is a development server. Do not use it in a production deployment. Use a production WSGI server instead.\u001b[0m\n",
            " * Running on http://127.0.0.1:5000\n",
            "INFO:werkzeug:\u001b[33mPress CTRL+C to quit\u001b[0m\n",
            "INFO:werkzeug: * Restarting with stat\n"
          ]
        }
      ],
      "source": [
        "# Import the Flask class\n",
        "from flask import Flask\n",
        "\n",
        "# Create an instance of the Flask class\n",
        "app = Flask(__name__)\n",
        "\n",
        "# Define a route using the @app.route() decorator\n",
        "@app.route('/')\n",
        "def home():\n",
        "    return 'Hello, Flask! This is your first basic application.'\n",
        "\n",
        "# Run the app\n",
        "if __name__ == '__main__':\n",
        "    app.run(debug=True)\n"
      ]
    },
    {
      "cell_type": "markdown",
      "id": "JWBSLgU1kR43",
      "metadata": {
        "id": "JWBSLgU1kR43"
      },
      "source": [
        "Q2.  How do you serve static files like images or CSS in Flask ?\n",
        "Ans 2. To serve static files like images, CSS, or JavaScript in Flask, we use the special `/static` directory."
      ]
    },
    {
      "cell_type": "code",
      "execution_count": null,
      "id": "JVvaI_Z0lOcW",
      "metadata": {
        "id": "JVvaI_Z0lOcW"
      },
      "outputs": [],
      "source": [
        "from flask import Flask, render_template\n",
        "\n",
        "app = Flask(__name__)\n",
        "\n",
        "@app.route('/')\n",
        "def home():\n",
        "    return render_template('index.html')\n",
        "\n",
        "if __name__ == '__main__':\n",
        "    app.run(debug=True)\n"
      ]
    },
    {
      "cell_type": "markdown",
      "id": "Ie2aKWFglpKF",
      "metadata": {
        "id": "Ie2aKWFglpKF"
      },
      "source": [
        "Q3. How do you define different routes with different HTTP methods in Flask?\n",
        "\n",
        "Ans 3. In Flask, we define different routes with different HTTP methods by specifying the` methods` parameter in the `@app.route()` decorator.\n",
        "\n"
      ]
    },
    {
      "cell_type": "code",
      "execution_count": null,
      "id": "hEdexkNsmSDi",
      "metadata": {
        "id": "hEdexkNsmSDi"
      },
      "outputs": [],
      "source": [
        "from flask import Flask, request\n",
        "\n",
        "app = Flask(__name__)\n",
        "\n",
        "# Route for GET request\n",
        "@app.route('/get-example', methods=['GET'])\n",
        "def get_example():\n",
        "    return 'This is a GET request'\n",
        "\n",
        "# Route for POST request\n",
        "@app.route('/post-example', methods=['POST'])\n",
        "def post_example():\n",
        "    data = request.form.get('data', 'No data received')\n",
        "    return f'You sent: {data}'\n",
        "\n",
        "# Route handling both GET and POST\n",
        "@app.route('/both-example', methods=['GET', 'POST'])\n",
        "def both_example():\n",
        "    if request.method == 'POST':\n",
        "        return 'You made a POST request'\n",
        "    return 'You made a GET request'\n",
        "\n",
        "if __name__ == '__main__':\n",
        "    app.run(debug=True)\n"
      ]
    },
    {
      "cell_type": "markdown",
      "id": "nlosfAgknAlY",
      "metadata": {
        "id": "nlosfAgknAlY"
      },
      "source": [
        "Q4.  How do you render HTML templates in Flask ?\n",
        "\n",
        "Ans 4.  Flask, we render HTML templates using the `render_template()` function and placing your HTML files inside a special folder named `templates/`."
      ]
    },
    {
      "cell_type": "code",
      "execution_count": null,
      "id": "P8JWief7na3Z",
      "metadata": {
        "id": "P8JWief7na3Z"
      },
      "outputs": [],
      "source": [
        "project_folder/\n",
        "│\n",
        "├── app.py\n",
        "└── templates/\n",
        "    └── index.html\n",
        "\n",
        "from flask import Flask, render_template\n",
        "\n",
        "app = Flask(__name__)\n",
        "\n",
        "@app.route('/')\n",
        "def home():\n",
        "    return render_template('index.html')\n",
        "\n",
        "if __name__ == '__main__':\n",
        "    app.run(debug=True)\n"
      ]
    },
    {
      "cell_type": "markdown",
      "id": "mzl8dUzCnled",
      "metadata": {
        "id": "mzl8dUzCnled"
      },
      "source": [
        "Q5.  How can you generate URLs for routes in Flask using url_for ?\n",
        "\n",
        "Ans5. In Flask, we use `url_for()` to dynamically generate URLs for your routes using the function name instead of hardcoding paths. This helps avoid errors and makes your code more maintainable.\n",
        "\n"
      ]
    },
    {
      "cell_type": "code",
      "execution_count": null,
      "id": "KA5qrCSloTbd",
      "metadata": {
        "id": "KA5qrCSloTbd"
      },
      "outputs": [],
      "source": [
        "from flask import Flask, url_for, redirect\n",
        "\n",
        "app = Flask(__name__)\n",
        "\n",
        "@app.route('/')\n",
        "def home():\n",
        "    return 'This is the home page. <a href=\"/about\">Go to About</a>'\n",
        "\n",
        "@app.route('/about')\n",
        "def about():\n",
        "    return 'This is the about page.'\n",
        "\n",
        "@app.route('/redirect-home')\n",
        "def redirect_home():\n",
        "    # Generates the URL for 'home' and redirects\n",
        "    return redirect(url_for('home'))\n",
        "\n",
        "if __name__ == '__main__':\n",
        "    app.run(debug=True)\n"
      ]
    },
    {
      "cell_type": "markdown",
      "id": "Aqz9TIXeob1g",
      "metadata": {
        "id": "Aqz9TIXeob1g"
      },
      "source": [
        "Q6. How do you handle forms in Flask ?\n",
        "\n",
        "Ans 6. In Flask, we handle forms using the `request` object to retrieve form data submitted via `POST` method. We typically use HTML forms in templates and then process the submitted data in our Flask routes.\n"
      ]
    },
    {
      "cell_type": "code",
      "execution_count": null,
      "id": "0HRiC22so6bh",
      "metadata": {
        "id": "0HRiC22so6bh"
      },
      "outputs": [],
      "source": [
        "project_folder/\n",
        "├── app.py\n",
        "└── templates/\n",
        "    └── form.html\n",
        "\n",
        "\n",
        "from flask import Flask, request, render_template\n",
        "\n",
        "app = Flask(__name__)\n",
        "\n",
        "@app.route('/form', methods=['GET', 'POST'])\n",
        "def form():\n",
        "    if request.method == 'POST':\n",
        "        username = request.form['username']\n",
        "        return f'Welcome, {username}!'\n",
        "    return render_template('form.html')\n",
        "\n",
        "if __name__ == '__main__':\n",
        "    app.run(debug=True)\n"
      ]
    },
    {
      "cell_type": "markdown",
      "id": "WcZ1vcrYpA-D",
      "metadata": {
        "id": "WcZ1vcrYpA-D"
      },
      "source": [
        "Q7.  How can you validate form data in Flask?\n",
        "\n",
        "Ans 7. In Flask, we can validate form data manually using `request.form` or more robustly using Flask-WTF, which adds validation and security features like CSRF protection."
      ]
    },
    {
      "cell_type": "code",
      "execution_count": null,
      "id": "bbrliFqLphgs",
      "metadata": {
        "id": "bbrliFqLphgs"
      },
      "outputs": [],
      "source": [
        "from flask import Flask, request, render_template\n",
        "\n",
        "app = Flask(__name__)\n",
        "\n",
        "@app.route('/register', methods=['GET', 'POST'])\n",
        "def register():\n",
        "    error = None\n",
        "    if request.method == 'POST':\n",
        "        username = request.form.get('username')\n",
        "        if not username or len(username) < 3:\n",
        "            error = \"Username must be at least 3 characters long.\"\n",
        "        else:\n",
        "            return f\"Welcome, {username}!\"\n",
        "    return render_template('register.html', error=error)\n",
        "\n",
        "if __name__ == '__main__':\n",
        "    app.run(debug=True)\n"
      ]
    },
    {
      "cell_type": "markdown",
      "id": "_3eLfPu4pndQ",
      "metadata": {
        "id": "_3eLfPu4pndQ"
      },
      "source": [
        "Q8. How do you manage sessions in Flask ?\n",
        "\n",
        "Ans 8. In Flask, session management is handled through the `session `object provided by Flask itself, which allows us to store information specific to a user across multiple requests. Here's a breakdown of how to manage sessions in Flask:\n",
        "\n"
      ]
    },
    {
      "cell_type": "code",
      "source": [
        "@app.route('/login')\n",
        "def login():\n",
        "    session['username'] = 'sikandar'\n",
        "    return 'Logged in as sikandar'\n"
      ],
      "metadata": {
        "id": "ru60RmYP56ZU"
      },
      "id": "ru60RmYP56ZU",
      "execution_count": null,
      "outputs": []
    },
    {
      "cell_type": "markdown",
      "source": [
        "Q9.  How do you redirect to a different route in Flask ?\n",
        "\n",
        "Ans 9. In Flask, you can redirect a user to a different route using the `redirect()` and `url_for()` functions from the `flask` module."
      ],
      "metadata": {
        "id": "zoudBLRp6Dg8"
      },
      "id": "zoudBLRp6Dg8"
    },
    {
      "cell_type": "code",
      "source": [
        "from flask import Flask, redirect, url_for\n",
        "\n",
        "app = Flask(__name__)\n",
        "\n",
        "@app.route('/')\n",
        "def home():\n",
        "    return 'Welcome to the Home Page'\n",
        "\n",
        "@app.route('/login')\n",
        "def login():\n",
        "    # After login logic, redirect to dashboard\n",
        "    return redirect(url_for('dashboard'))\n",
        "\n",
        "@app.route('/dashboard')\n",
        "def dashboard():\n",
        "    return 'This is the Dashboard'\n"
      ],
      "metadata": {
        "id": "GjaNWsPi6cMM"
      },
      "id": "GjaNWsPi6cMM",
      "execution_count": null,
      "outputs": []
    },
    {
      "cell_type": "markdown",
      "source": [
        "Q10.  How do you handle errors in Flask (e.g., 404) ?\n",
        "\n",
        "Ans 10. In Flask, you can handle errors like `404 Not Found`, `500 Internal Server Error`, etc., using error handlers. These handlers allow you to show custom messages or pages instead of the default error responses."
      ],
      "metadata": {
        "id": "668wr-Lp6gi8"
      },
      "id": "668wr-Lp6gi8"
    },
    {
      "cell_type": "code",
      "source": [
        "from flask import Flask, render_template\n",
        "\n",
        "app = Flask(__name__)\n",
        "\n",
        "@app.errorhandler(404)\n",
        "def not_found(error):\n",
        "    return render_template('404.html'), 404\n",
        "\n",
        "@app.errorhandler(500)\n",
        "def internal_error(error):\n",
        "    return render_template('500.html'), 500\n"
      ],
      "metadata": {
        "id": "Jf9FvQGl63Fy"
      },
      "id": "Jf9FvQGl63Fy",
      "execution_count": null,
      "outputs": []
    },
    {
      "cell_type": "markdown",
      "source": [
        "Q11. How do you structure a Flask app using Blueprints ?\n",
        "\n",
        "Ans 11. Using Blueprints in Flask helps you structure your app into modular, reusable components—ideal for large or scalable applications."
      ],
      "metadata": {
        "id": "30fHC7mP654Z"
      },
      "id": "30fHC7mP654Z"
    },
    {
      "cell_type": "code",
      "source": [
        "# app/routes/auth.py\n",
        "from flask import Blueprint, render_template\n",
        "\n",
        "auth_bp = Blueprint('auth', __name__, url_prefix='/auth')\n",
        "\n",
        "@auth_bp.route('/login')\n",
        "def login():\n",
        "    return \"Login Page\"\n",
        "\n",
        "@auth_bp.route('/logout')\n",
        "def logout():\n",
        "    return \"Logout Page\"\n"
      ],
      "metadata": {
        "id": "oqaNPa8X7OTo"
      },
      "id": "oqaNPa8X7OTo",
      "execution_count": null,
      "outputs": []
    },
    {
      "cell_type": "markdown",
      "source": [
        "Q12.  How do you define a custom Jinja filter in Flask ?\n",
        "\n",
        "Ans 12. In Flask, you can define a custom Jinja filter by creating a Python function and registering it with the Flask app using the `@app.template_filter()` decorator or by manually adding it to `app.jinja_env.filters`.\n",
        "\n"
      ],
      "metadata": {
        "id": "YWYhTUJg7QdI"
      },
      "id": "YWYhTUJg7QdI"
    },
    {
      "cell_type": "code",
      "source": [
        "from flask import Flask, render_template\n",
        "\n",
        "app = Flask(__name__)\n",
        "\n",
        "# Custom filter to reverse a string\n",
        "@app.template_filter('reverse')\n",
        "def reverse_filter(s):\n",
        "    return s[::-1]\n",
        "\n",
        "@app.route('/')\n",
        "def index():\n",
        "    return render_template('index.html', name=\"Sikandar\")\n"
      ],
      "metadata": {
        "id": "xJWolWH17iKT"
      },
      "id": "xJWolWH17iKT",
      "execution_count": null,
      "outputs": []
    },
    {
      "cell_type": "markdown",
      "source": [
        "Q13.  How can you redirect with query parameters in Flask ?\n",
        "\n",
        "Ans 13. To redirect with query parameters in Flask, you can use the `redirect()` function along with `url_for()` and pass the query parameters as keyword arguments.\n",
        "\n"
      ],
      "metadata": {
        "id": "r3mZPaQa7lEe"
      },
      "id": "r3mZPaQa7lEe"
    },
    {
      "cell_type": "code",
      "source": [
        "from flask import Flask, redirect, url_for, request\n",
        "\n",
        "app = Flask(__name__)\n",
        "\n",
        "@app.route('/go')\n",
        "def go():\n",
        "    # Redirecting to /result with query parameters\n",
        "    return redirect(url_for('result', name='Sikandar', age=17))\n",
        "\n",
        "@app.route('/result')\n",
        "def result():\n",
        "    name = request.args.get('name')\n",
        "    age = request.args.get('age')\n",
        "    return f'Name: {name}, Age: {age}'\n"
      ],
      "metadata": {
        "id": "hS6BFXM37zBJ"
      },
      "id": "hS6BFXM37zBJ",
      "execution_count": null,
      "outputs": []
    },
    {
      "cell_type": "markdown",
      "source": [
        "Q14. How do you return JSON responses in Flask?\n",
        "\n",
        "Ans 14. In Flask, you can return JSON responses using the `jsonify()` function, which safely converts Python dictionaries and lists into JSON format and sets the correct `Content-Type` header `(application/json)`.\n",
        "\n"
      ],
      "metadata": {
        "id": "-9ydqv2i71d_"
      },
      "id": "-9ydqv2i71d_"
    },
    {
      "cell_type": "code",
      "source": [
        "from flask import Flask, jsonify\n",
        "\n",
        "app = Flask(__name__)\n",
        "\n",
        "@app.route('/api/data')\n",
        "def get_data():\n",
        "    data = {\n",
        "        'name': 'Sikandar',\n",
        "        'age': 17,\n",
        "        'interests': ['data science', 'AI', 'travel']\n",
        "    }\n",
        "    return jsonify(data)\n"
      ],
      "metadata": {
        "id": "FG-Qic7C8Pj2"
      },
      "id": "FG-Qic7C8Pj2",
      "execution_count": null,
      "outputs": []
    },
    {
      "cell_type": "markdown",
      "source": [
        "Q15. How do you capture URL parameters in Flask?\n",
        "\n",
        "Ans15. In Flask, we capture URL parameters (also called route parameters) by placing angle brackets `(< >)` in your route path. Flask then passes those values to your view function as arguments."
      ],
      "metadata": {
        "id": "ca096Ngx8Vog"
      },
      "id": "ca096Ngx8Vog"
    },
    {
      "cell_type": "code",
      "source": [
        "@app.route('/user/<username>')\n",
        "def show_user(username):\n",
        "    return f'User: {username}'\n"
      ],
      "metadata": {
        "id": "1vwEzLTL_GgU"
      },
      "id": "1vwEzLTL_GgU",
      "execution_count": null,
      "outputs": []
    }
  ],
  "metadata": {
    "colab": {
      "provenance": []
    },
    "kernelspec": {
      "display_name": "Python 3",
      "name": "python3"
    },
    "language_info": {
      "name": "python"
    }
  },
  "nbformat": 4,
  "nbformat_minor": 5
}