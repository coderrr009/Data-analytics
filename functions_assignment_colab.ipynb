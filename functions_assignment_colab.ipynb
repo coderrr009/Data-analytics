{
 "cells": [
  {
   "cell_type": "markdown",
   "id": "eb098e4d",
   "metadata": {},
   "source": [
    "# Theory Questions"
   ]
  },
  {
   "cell_type": "markdown",
   "id": "05d03e55",
   "metadata": {},
   "source": [
    "## 1. Difference between a Function and a Method in Python\n",
    "**Function:** A block of reusable code that is called independently.\n",
    "\n",
    "**Method:** A function associated with an object.\n",
    "\n",
    "**Example:**\n",
    "```python\n",
    "def add(a, b):\n",
    "    return a + b\n",
    "\n",
    "lst = [1, 2, 3]\n",
    "lst.append(4)  # append() is a method\n",
    "```"
   ]
  },
  {
   "cell_type": "markdown",
   "id": "0e186030",
   "metadata": {},
   "source": [
    "## 2. Function Arguments and Parameters\n",
    "- **Parameter**: Variable listed inside parentheses in the function definition.\n",
    "- **Argument**: Value sent to the function when called.\n",
    "\n",
    "**Example:**\n",
    "```python\n",
    "def greet(name):\n",
    "    print(\"Hello,\", name)\n",
    "\n",
    "greet(\"John\")\n",
    "```"
   ]
  },
  {
   "cell_type": "markdown",
   "id": "ad547995",
   "metadata": {},
   "source": [
    "## 3. Ways to Define and Call Functions\n",
    "**Example:**\n",
    "```python\n",
    "def say_hello():\n",
    "    print(\"Hello!\")\n",
    "\n",
    "say_hello()\n",
    "```"
   ]
  },
  {
   "cell_type": "markdown",
   "id": "29fdc29e",
   "metadata": {},
   "source": [
    "## 4. Purpose of `return` Statement\n",
    "**Example:**\n",
    "```python\n",
    "def square(x):\n",
    "    return x*x\n",
    "\n",
    "result = square(5)\n",
    "```"
   ]
  },
  {
   "cell_type": "markdown",
   "id": "cfa51b0a",
   "metadata": {},
   "source": [
    "## 5. Iterators vs Iterables\n",
    "- **Iterable:** Object capable of returning its members (list, tuple, etc).\n",
    "- **Iterator:** Object that produces next value with `__next__()`.\n",
    "\n",
    "**Example:**\n",
    "```python\n",
    "lst = [1, 2, 3]\n",
    "iter_lst = iter(lst)\n",
    "print(next(iter_lst))\n",
    "```"
   ]
  },
  {
   "cell_type": "markdown",
   "id": "75542247",
   "metadata": {},
   "source": [
    "## 6. Generators in Python\n",
    "**Example:**\n",
    "```python\n",
    "def gen_nums():\n",
    "    yield 1\n",
    "    yield 2\n",
    "    yield 3\n",
    "```"
   ]
  },
  {
   "cell_type": "markdown",
   "id": "ae5e85d3",
   "metadata": {},
   "source": [
    "## 7. Advantages of Generators\n",
    "- Save memory\n",
    "- Lazy evaluation"
   ]
  },
  {
   "cell_type": "markdown",
   "id": "45060e4f",
   "metadata": {},
   "source": [
    "## 8. Lambda Functions\n",
    "**Example:**\n",
    "```python\n",
    "square = lambda x: x*x\n",
    "print(square(5))\n",
    "```"
   ]
  },
  {
   "cell_type": "markdown",
   "id": "fb16fdac",
   "metadata": {},
   "source": [
    "## 9. Purpose of `map()`\n",
    "**Example:**\n",
    "```python\n",
    "def square(x):\n",
    "    return x*x\n",
    "\n",
    "nums = [1, 2, 3]\n",
    "result = list(map(square, nums))\n",
    "```"
   ]
  },
  {
   "cell_type": "markdown",
   "id": "27fa854c",
   "metadata": {},
   "source": [
    "## 10. Difference between map(), reduce(), and filter()\n",
    "**Example:**\n",
    "```python\n",
    "from functools import reduce\n",
    "nums = [1, 2, 3, 4]\n",
    "sum_all = reduce(lambda x, y: x+y, nums)\n",
    "```"
   ]
  },
  {
   "cell_type": "markdown",
   "id": "0cf3bf86",
   "metadata": {},
   "source": [
    "## 11. Sum using reduce() on [47,11,42,13]\n",
    "- (47 + 11) = 58\n",
    "- (58 + 42) = 100\n",
    "- (100 + 13) = 113\n",
    "\n",
    "**Code:**\n",
    "```python\n",
    "from functools import reduce\n",
    "nums = [47, 11, 42, 13]\n",
    "result = reduce(lambda x, y: x + y, nums)\n",
    "print(result)  # Output: 113\n",
    "```"
   ]
  },
  {
   "cell_type": "markdown",
   "id": "dab9f59d",
   "metadata": {},
   "source": [
    "# Practical Questions"
   ]
  },
  {
   "cell_type": "code",
   "execution_count": null,
   "id": "4564db23",
   "metadata": {},
   "outputs": [],
   "source": [
    "# 1. Sum of Even Numbers\n",
    "def sum_even(numbers):\n",
    "    return sum(num for num in numbers if num % 2 == 0)\n",
    "sum_even([1,2,3,4,5,6])"
   ]
  },
  {
   "cell_type": "code",
   "execution_count": null,
   "id": "9995fd9c",
   "metadata": {},
   "outputs": [],
   "source": [
    "# 2. Reverse a String\n",
    "def reverse_string(s):\n",
    "    return s[::-1]\n",
    "reverse_string(\"hello\")"
   ]
  },
  {
   "cell_type": "code",
   "execution_count": null,
   "id": "74deb560",
   "metadata": {},
   "outputs": [],
   "source": [
    "# 3. Squares of List Elements\n",
    "def squares(lst):\n",
    "    return [x**2 for x in lst]\n",
    "squares([1,2,3])"
   ]
  },
  {
   "cell_type": "code",
   "execution_count": null,
   "id": "70def864",
   "metadata": {},
   "outputs": [],
   "source": [
    "# 4. Check Prime Number from 1 to 200\n",
    "def is_prime(n):\n",
    "    if n <= 1:\n",
    "        return False\n",
    "    for i in range(2, int(n**0.5)+1):\n",
    "        if n % i == 0:\n",
    "            return False\n",
    "    return True\n",
    "[x for x in range(1, 201) if is_prime(x)]"
   ]
  },
  {
   "cell_type": "code",
   "execution_count": null,
   "id": "60fcd20f",
   "metadata": {},
   "outputs": [],
   "source": [
    "# 5. Fibonacci Iterator Class\n",
    "class Fibonacci:\n",
    "    def __init__(self, n):\n",
    "        self.n = n\n",
    "        self.a, self.b = 0, 1\n",
    "        self.count = 0\n",
    "    def __iter__(self):\n",
    "        return self\n",
    "    def __next__(self):\n",
    "        if self.count >= self.n:\n",
    "            raise StopIteration\n",
    "        value = self.a\n",
    "        self.a, self.b = self.b, self.a + self.b\n",
    "        self.count += 1\n",
    "        return value\n",
    "fib = Fibonacci(10)\n",
    "for num in fib:\n",
    "    print(num)"
   ]
  },
  {
   "cell_type": "code",
   "execution_count": null,
   "id": "35155394",
   "metadata": {},
   "outputs": [],
   "source": [
    "# 6. Generator for Powers of 2\n",
    "def powers_of_two(exponent):\n",
    "    for i in range(exponent + 1):\n",
    "        yield 2 ** i\n",
    "list(powers_of_two(5))"
   ]
  },
  {
   "cell_type": "code",
   "execution_count": null,
   "id": "ae0b2c9e",
   "metadata": {},
   "outputs": [],
   "source": [
    "# 7. File Line Reader Generator\n",
    "def read_lines(file_path):\n",
    "    with open(file_path, 'r') as file:\n",
    "        for line in file:\n",
    "            yield line.strip()\n",
    "# Usage\n",
    "# for line in read_lines(\"sample.txt\"):\n",
    "#     print(line)"
   ]
  },
  {
   "cell_type": "code",
   "execution_count": null,
   "id": "16929df8",
   "metadata": {},
   "outputs": [],
   "source": [
    "# 8. Sort List of Tuples by Second Element\n",
    "tuples = [(1,3), (2,1), (4,2)]\n",
    "sorted(tuples, key=lambda x: x[1])"
   ]
  },
  {
   "cell_type": "code",
   "execution_count": null,
   "id": "2822570d",
   "metadata": {},
   "outputs": [],
   "source": [
    "# 9. Convert Celsius to Fahrenheit\n",
    "def to_fahrenheit(c):\n",
    "    return (c*9/5)+32\n",
    "celsius = [0,10,20,30]\n",
    "list(map(to_fahrenheit, celsius))"
   ]
  },
  {
   "cell_type": "code",
   "execution_count": null,
   "id": "fc833d4d",
   "metadata": {},
   "outputs": [],
   "source": [
    "# 10. Remove Vowels Using Filter\n",
    "def remove_vowels(s):\n",
    "    vowels = 'aeiouAEIOU'\n",
    "    return ''.join(filter(lambda x: x not in vowels, s))\n",
    "remove_vowels(\"Hello World\")"
   ]
  },
  {
   "cell_type": "code",
   "execution_count": null,
   "id": "91d2456d",
   "metadata": {},
   "outputs": [],
   "source": [
    "# 11. Accounting Routine\n",
    "orders = [\n",
    "    ['34587', 'Learning Python', 4, 40.95],\n",
    "    ['98762', 'Programming Python', 5, 56.80],\n",
    "    ['77226', 'Head First Python', 3, 32.95],\n",
    "    ['88112', 'Einfuhrung in Python3', 3, 24.99]\n",
    "]\n",
    "list(map(lambda order: (order[0], order[2]*order[3] + (10 if order[2]*order[3] < 100 else 0)), orders))"
   ]
  }
 ],
 "metadata": {},
 "nbformat": 4,
 "nbformat_minor": 5
}
