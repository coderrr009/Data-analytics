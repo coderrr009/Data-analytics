{
 "cells": [
  {
   "cell_type": "markdown",
   "id": "15ba6bfe",
   "metadata": {},
   "source": [
    "# Theory Questions"
   ]
  },
  {
   "cell_type": "markdown",
   "id": "fa015912",
   "metadata": {},
   "source": [
    "### What is the difference between interpreted and compiled languages"
   ]
  },
  {
   "cell_type": "markdown",
   "id": "d861b6ee",
   "metadata": {},
   "source": [
    "**Compiled Languages**: Translated into machine code before execution. Faster but platform-dependent.  \n",
    "**Interpreted Languages**: Executed line-by-line by an interpreter. Slower but more portable.  \n",
    "Examples: C (compiled), Python (interpreted)"
   ]
  },
  {
   "cell_type": "code",
   "execution_count": null,
   "id": "9d239f95",
   "metadata": {},
   "outputs": [],
   "source": [
    "# Write your explanation here"
   ]
  },
  {
   "cell_type": "markdown",
   "id": "17fccd93",
   "metadata": {},
   "source": [
    "### What is exception handling in Python"
   ]
  },
  {
   "cell_type": "markdown",
   "id": "9a363803",
   "metadata": {},
   "source": [
    "Exception handling lets you manage runtime errors using `try`, `except`, `else`, and `finally` blocks.  \n",
    "It prevents crashes and allows graceful error recovery."
   ]
  },
  {
   "cell_type": "code",
   "execution_count": null,
   "id": "220ad13f",
   "metadata": {},
   "outputs": [],
   "source": [
    "# Write your explanation here"
   ]
  },
  {
   "cell_type": "markdown",
   "id": "7bba0f21",
   "metadata": {},
   "source": [
    "### What is the purpose of the finally block in exception handling"
   ]
  },
  {
   "cell_type": "markdown",
   "id": "8fb6e4aa",
   "metadata": {},
   "source": [
    "The `finally` block is used for cleanup actions (e.g., closing files), and it always runs, whether an exception occurs or not."
   ]
  },
  {
   "cell_type": "code",
   "execution_count": null,
   "id": "1f7844d4",
   "metadata": {},
   "outputs": [],
   "source": [
    "# Write your explanation here"
   ]
  },
  {
   "cell_type": "markdown",
   "id": "035e92ef",
   "metadata": {},
   "source": [
    "### What is logging in Python"
   ]
  },
  {
   "cell_type": "markdown",
   "id": "3957fb91",
   "metadata": {},
   "source": [
    "Logging allows you to record messages about your program's execution for debugging and monitoring.  \n",
    "It uses levels like DEBUG, INFO, WARNING, ERROR, and CRITICAL."
   ]
  },
  {
   "cell_type": "code",
   "execution_count": null,
   "id": "1ba84934",
   "metadata": {},
   "outputs": [],
   "source": [
    "# Write your explanation here"
   ]
  },
  {
   "cell_type": "markdown",
   "id": "f0959762",
   "metadata": {},
   "source": [
    "### What is the significance of the __del__ method in Python"
   ]
  },
  {
   "cell_type": "markdown",
   "id": "f657d406",
   "metadata": {},
   "source": [
    "The `__del__` method is a destructor that is called when an object is about to be destroyed.  \n",
    "Used to clean up resources like files or network connections."
   ]
  },
  {
   "cell_type": "code",
   "execution_count": null,
   "id": "04262a59",
   "metadata": {},
   "outputs": [],
   "source": [
    "# Write your explanation here"
   ]
  },
  {
   "cell_type": "markdown",
   "id": "fa3bc9de",
   "metadata": {},
   "source": [
    "### What is the difference between import and from ... import in Python"
   ]
  },
  {
   "cell_type": "markdown",
   "id": "da44dcb9",
   "metadata": {},
   "source": [
    "`import module` imports the whole module.  \n",
    "`from module import function` imports specific parts.  \n",
    "E.g., `import math` vs `from math import sqrt`."
   ]
  },
  {
   "cell_type": "code",
   "execution_count": null,
   "id": "281e96ed",
   "metadata": {},
   "outputs": [],
   "source": [
    "# Write your explanation here"
   ]
  },
  {
   "cell_type": "markdown",
   "id": "ba1816d4",
   "metadata": {},
   "source": [
    "### How can you handle multiple exceptions in Python"
   ]
  },
  {
   "cell_type": "markdown",
   "id": "d1485221",
   "metadata": {},
   "source": [
    "Use multiple `except` blocks for different exceptions or combine them using a tuple:  \n",
    "```python\n",
    "try: ...  \n",
    "except (TypeError, ValueError): ...```"
   ]
  },
  {
   "cell_type": "code",
   "execution_count": null,
   "id": "e399c091",
   "metadata": {},
   "outputs": [],
   "source": [
    "# Write your explanation here"
   ]
  },
  {
   "cell_type": "markdown",
   "id": "0c3f725f",
   "metadata": {},
   "source": [
    "### What is the purpose of the with statement when handling files in Python"
   ]
  },
  {
   "cell_type": "markdown",
   "id": "eded7808",
   "metadata": {},
   "source": [
    "The `with` statement ensures proper file opening and automatic closing, even if an error occurs."
   ]
  },
  {
   "cell_type": "code",
   "execution_count": null,
   "id": "cbf793cb",
   "metadata": {},
   "outputs": [],
   "source": [
    "# Write your explanation here"
   ]
  },
  {
   "cell_type": "markdown",
   "id": "c33061e9",
   "metadata": {},
   "source": [
    "### What is the difference between multithreading and multiprocessing"
   ]
  },
  {
   "cell_type": "markdown",
   "id": "f1f58a72",
   "metadata": {},
   "source": [
    "**Multithreading**: Multiple threads within the same process (shared memory).  \n",
    "**Multiprocessing**: Multiple processes with separate memory (better CPU utilization)."
   ]
  },
  {
   "cell_type": "code",
   "execution_count": null,
   "id": "98dc0c75",
   "metadata": {},
   "outputs": [],
   "source": [
    "# Write your explanation here"
   ]
  },
  {
   "cell_type": "markdown",
   "id": "685df90c",
   "metadata": {},
   "source": [
    "### What are the advantages of using logging in a program"
   ]
  },
  {
   "cell_type": "markdown",
   "id": "d84c6cec",
   "metadata": {},
   "source": [
    "- Better than print for debugging  \n",
    "- Supports levels and outputs to files  \n",
    "- Helps in production monitoring and error tracking"
   ]
  },
  {
   "cell_type": "code",
   "execution_count": null,
   "id": "be3c7141",
   "metadata": {},
   "outputs": [],
   "source": [
    "# Write your explanation here"
   ]
  },
  {
   "cell_type": "markdown",
   "id": "beca739a",
   "metadata": {},
   "source": [
    "### What is memory management in Python"
   ]
  },
  {
   "cell_type": "markdown",
   "id": "b381f6f2",
   "metadata": {},
   "source": [
    "Memory management handles allocation and deallocation of memory.  \n",
    "Python uses reference counting and garbage collection."
   ]
  },
  {
   "cell_type": "code",
   "execution_count": null,
   "id": "ad853e19",
   "metadata": {},
   "outputs": [],
   "source": [
    "# Write your explanation here"
   ]
  },
  {
   "cell_type": "markdown",
   "id": "4c92cf67",
   "metadata": {},
   "source": [
    "### What are the basic steps involved in exception handling in Python"
   ]
  },
  {
   "cell_type": "markdown",
   "id": "7ecc33eb",
   "metadata": {},
   "source": [
    "1. `try` block: code that may fail  \n",
    "2. `except` block: handles the error  \n",
    "3. `else` block: runs if no error  \n",
    "4. `finally` block: runs always"
   ]
  },
  {
   "cell_type": "code",
   "execution_count": null,
   "id": "73ed8292",
   "metadata": {},
   "outputs": [],
   "source": [
    "# Write your explanation here"
   ]
  },
  {
   "cell_type": "markdown",
   "id": "4d6712ed",
   "metadata": {},
   "source": [
    "### Why is memory management important in Python"
   ]
  },
  {
   "cell_type": "markdown",
   "id": "7d170d5f",
   "metadata": {},
   "source": [
    "Efficient memory management prevents memory leaks and ensures optimal performance and scalability."
   ]
  },
  {
   "cell_type": "code",
   "execution_count": null,
   "id": "5ed46775",
   "metadata": {},
   "outputs": [],
   "source": [
    "# Write your explanation here"
   ]
  },
  {
   "cell_type": "markdown",
   "id": "83bac340",
   "metadata": {},
   "source": [
    "### What is the role of try and except in exception handling"
   ]
  },
  {
   "cell_type": "markdown",
   "id": "9776dd9d",
   "metadata": {},
   "source": [
    "`try` block runs potentially problematic code.  \n",
    "`except` block handles specific or general exceptions that may occur."
   ]
  },
  {
   "cell_type": "code",
   "execution_count": null,
   "id": "6b25eebd",
   "metadata": {},
   "outputs": [],
   "source": [
    "# Write your explanation here"
   ]
  },
  {
   "cell_type": "markdown",
   "id": "cae2f88b",
   "metadata": {},
   "source": [
    "### How does Python's garbage collection system work"
   ]
  },
  {
   "cell_type": "markdown",
   "id": "9a573247",
   "metadata": {},
   "source": [
    "It uses reference counting and a cyclic garbage collector to clean up unreferenced memory automatically."
   ]
  },
  {
   "cell_type": "code",
   "execution_count": null,
   "id": "aec6b5bf",
   "metadata": {},
   "outputs": [],
   "source": [
    "# Write your explanation here"
   ]
  },
  {
   "cell_type": "markdown",
   "id": "dd7a6707",
   "metadata": {},
   "source": [
    "### What is the purpose of the else block in exception handling"
   ]
  },
  {
   "cell_type": "markdown",
   "id": "575c5ed1",
   "metadata": {},
   "source": [
    "The `else` block runs if no exceptions occur in the `try` block. Keeps success logic separate from error handling."
   ]
  },
  {
   "cell_type": "code",
   "execution_count": null,
   "id": "c653292d",
   "metadata": {},
   "outputs": [],
   "source": [
    "# Write your explanation here"
   ]
  },
  {
   "cell_type": "markdown",
   "id": "36680295",
   "metadata": {},
   "source": [
    "### What are the common logging levels in Python"
   ]
  },
  {
   "cell_type": "markdown",
   "id": "767e555f",
   "metadata": {},
   "source": [
    "- DEBUG  \n",
    "- INFO  \n",
    "- WARNING  \n",
    "- ERROR  \n",
    "- CRITICAL"
   ]
  },
  {
   "cell_type": "code",
   "execution_count": null,
   "id": "744b75cb",
   "metadata": {},
   "outputs": [],
   "source": [
    "# Write your explanation here"
   ]
  },
  {
   "cell_type": "markdown",
   "id": "6fedb4d0",
   "metadata": {},
   "source": [
    "### What is the difference between os.fork() and multiprocessing in Python"
   ]
  },
  {
   "cell_type": "markdown",
   "id": "26950c51",
   "metadata": {},
   "source": [
    "`os.fork()` creates a new process (Unix only).  \n",
    "`multiprocessing` is a cross-platform module for spawning processes with better control and API."
   ]
  },
  {
   "cell_type": "code",
   "execution_count": null,
   "id": "8baeb868",
   "metadata": {},
   "outputs": [],
   "source": [
    "# Write your explanation here"
   ]
  },
  {
   "cell_type": "markdown",
   "id": "457f5bdc",
   "metadata": {},
   "source": [
    "### What is the importance of closing a file in Python"
   ]
  },
  {
   "cell_type": "markdown",
   "id": "a56efc82",
   "metadata": {},
   "source": [
    "Closing a file frees up system resources and ensures data is written properly. Use `file.close()` or a `with` block."
   ]
  },
  {
   "cell_type": "code",
   "execution_count": null,
   "id": "84ca603d",
   "metadata": {},
   "outputs": [],
   "source": [
    "# Write your explanation here"
   ]
  },
  {
   "cell_type": "markdown",
   "id": "6a1293c4",
   "metadata": {},
   "source": [
    "### What is the difference between file.read() and file.readline() in Python"
   ]
  },
  {
   "cell_type": "markdown",
   "id": "84e37211",
   "metadata": {},
   "source": [
    "`file.read()` reads the whole file.  \n",
    "`file.readline()` reads one line at a time."
   ]
  },
  {
   "cell_type": "code",
   "execution_count": null,
   "id": "61815ae5",
   "metadata": {},
   "outputs": [],
   "source": [
    "# Write your explanation here"
   ]
  },
  {
   "cell_type": "markdown",
   "id": "932e6e5b",
   "metadata": {},
   "source": [
    "### What is the logging module in Python used for"
   ]
  },
  {
   "cell_type": "markdown",
   "id": "3cd1acff",
   "metadata": {},
   "source": [
    "The `logging` module is used to track events in software using different log levels and output formats."
   ]
  },
  {
   "cell_type": "code",
   "execution_count": null,
   "id": "f1600ea3",
   "metadata": {},
   "outputs": [],
   "source": [
    "# Write your explanation here"
   ]
  },
  {
   "cell_type": "markdown",
   "id": "972f7731",
   "metadata": {},
   "source": [
    "### What is the os module in Python used for in file handling"
   ]
  },
  {
   "cell_type": "markdown",
   "id": "023d8c9f",
   "metadata": {},
   "source": [
    "The `os` module allows interaction with the operating system: file paths, directory management, file checks, etc."
   ]
  },
  {
   "cell_type": "code",
   "execution_count": null,
   "id": "d396386a",
   "metadata": {},
   "outputs": [],
   "source": [
    "# Write your explanation here"
   ]
  },
  {
   "cell_type": "markdown",
   "id": "b7b78232",
   "metadata": {},
   "source": [
    "### What are the challenges associated with memory management in Python"
   ]
  },
  {
   "cell_type": "markdown",
   "id": "8a16ca18",
   "metadata": {},
   "source": [
    "- Circular references  \n",
    "- Memory leaks  \n",
    "- Overhead of garbage collector"
   ]
  },
  {
   "cell_type": "code",
   "execution_count": null,
   "id": "ac259773",
   "metadata": {},
   "outputs": [],
   "source": [
    "# Write your explanation here"
   ]
  },
  {
   "cell_type": "markdown",
   "id": "0b9a4078",
   "metadata": {},
   "source": [
    "### How do you raise an exception manually in Python"
   ]
  },
  {
   "cell_type": "markdown",
   "id": "96bcc51b",
   "metadata": {},
   "source": [
    "Use the `raise` keyword:  \n",
    "```python  \n",
    "raise ValueError(\"Invalid input\")  \n",
    "```"
   ]
  },
  {
   "cell_type": "code",
   "execution_count": null,
   "id": "f8e9e8c7",
   "metadata": {},
   "outputs": [],
   "source": [
    "# Write your explanation here"
   ]
  },
  {
   "cell_type": "markdown",
   "id": "2ea52d3c",
   "metadata": {},
   "source": [
    "### Why is it important to use multithreading in certain applications?"
   ]
  },
  {
   "cell_type": "markdown",
   "id": "efe084e7",
   "metadata": {},
   "source": [
    "Multithreading improves performance in I/O-bound tasks and allows simultaneous operations, like GUI responsiveness or handling multiple clients."
   ]
  },
  {
   "cell_type": "code",
   "execution_count": null,
   "id": "4eb02601",
   "metadata": {},
   "outputs": [],
   "source": [
    "# Write your explanation here"
   ]
  },
  {
   "cell_type": "markdown",
   "id": "323aea37",
   "metadata": {},
   "source": [
    "# Practical Questions"
   ]
  },
  {
   "cell_type": "markdown",
   "id": "b35911e7",
   "metadata": {},
   "source": [
    "### How can you open a file for writing in Python and write a string to it"
   ]
  },
  {
   "cell_type": "code",
   "execution_count": null,
   "id": "2bae5f99",
   "metadata": {},
   "outputs": [],
   "source": [
    "with open('example.txt', 'w') as f:\n",
    "    f.write('Hello, World!')"
   ]
  },
  {
   "cell_type": "markdown",
   "id": "d42af7f8",
   "metadata": {},
   "source": [
    "### Write a Python program to read the contents of a file and print each line"
   ]
  },
  {
   "cell_type": "code",
   "execution_count": null,
   "id": "546e7029",
   "metadata": {},
   "outputs": [],
   "source": [
    "with open('example.txt', 'r') as f:\n",
    "    for line in f:\n",
    "        print(line.strip())"
   ]
  },
  {
   "cell_type": "markdown",
   "id": "cc170500",
   "metadata": {},
   "source": [
    "### How would you handle a case where the file doesn't exist while trying to open it for reading"
   ]
  },
  {
   "cell_type": "code",
   "execution_count": null,
   "id": "8b0b9f35",
   "metadata": {},
   "outputs": [],
   "source": [
    "try:\n",
    "    with open('nonexistent.txt', 'r') as f:\n",
    "        content = f.read()\n",
    "except FileNotFoundError:\n",
    "    print('File not found.')"
   ]
  },
  {
   "cell_type": "markdown",
   "id": "85c84603",
   "metadata": {},
   "source": [
    "### Write a Python script that reads from one file and writes its content to another file"
   ]
  },
  {
   "cell_type": "code",
   "execution_count": null,
   "id": "70ba383f",
   "metadata": {},
   "outputs": [],
   "source": [
    "with open('source.txt', 'r') as src, open('destination.txt', 'w') as dst:\n",
    "    dst.write(src.read())"
   ]
  },
  {
   "cell_type": "markdown",
   "id": "1e58daae",
   "metadata": {},
   "source": [
    "### How would you catch and handle division by zero error in Python"
   ]
  },
  {
   "cell_type": "code",
   "execution_count": null,
   "id": "88aa08a5",
   "metadata": {},
   "outputs": [],
   "source": [
    "try:\n",
    "    result = 10 / 0\n",
    "except ZeroDivisionError:\n",
    "    print('Division by zero error.')"
   ]
  },
  {
   "cell_type": "markdown",
   "id": "bac8f1f0",
   "metadata": {},
   "source": [
    "### Write a Python program that logs an error message to a log file when a division by zero exception occurs"
   ]
  },
  {
   "cell_type": "code",
   "execution_count": null,
   "id": "0382e962",
   "metadata": {},
   "outputs": [],
   "source": [
    "import logging\n",
    "logging.basicConfig(filename='app.log', level=logging.ERROR)\n",
    "try:\n",
    "    x = 1 / 0\n",
    "except ZeroDivisionError as e:\n",
    "    logging.error('Division by zero occurred: %s', e)"
   ]
  },
  {
   "cell_type": "markdown",
   "id": "3f20f924",
   "metadata": {},
   "source": [
    "### How do you log information at different levels (INFO, ERROR, WARNING) in Python using the logging module"
   ]
  },
  {
   "cell_type": "code",
   "execution_count": null,
   "id": "0b56eadf",
   "metadata": {},
   "outputs": [],
   "source": [
    "import logging\n",
    "logging.basicConfig(level=logging.DEBUG)\n",
    "logging.info('This is an info message')\n",
    "logging.warning('This is a warning')\n",
    "logging.error('This is an error')"
   ]
  },
  {
   "cell_type": "markdown",
   "id": "0f0714da",
   "metadata": {},
   "source": [
    "### Write a program to handle a file opening error using exception handling"
   ]
  },
  {
   "cell_type": "code",
   "execution_count": null,
   "id": "0f93835a",
   "metadata": {},
   "outputs": [],
   "source": [
    "try:\n",
    "    with open('file.txt', 'r') as f:\n",
    "        print(f.read())\n",
    "except FileNotFoundError:\n",
    "    print('The file was not found.')"
   ]
  },
  {
   "cell_type": "markdown",
   "id": "23e746ae",
   "metadata": {},
   "source": [
    "### How can you read a file line by line and store its content in a list in Python"
   ]
  },
  {
   "cell_type": "code",
   "execution_count": null,
   "id": "90dfb7f2",
   "metadata": {},
   "outputs": [],
   "source": [
    "with open('example.txt', 'r') as f:\n",
    "    lines = f.readlines()\n",
    "print(lines)"
   ]
  },
  {
   "cell_type": "markdown",
   "id": "a8223a9b",
   "metadata": {},
   "source": [
    "### How can you append data to an existing file in Python"
   ]
  },
  {
   "cell_type": "code",
   "execution_count": null,
   "id": "26485bb9",
   "metadata": {},
   "outputs": [],
   "source": [
    "with open('example.txt', 'a') as f:\n",
    "    f.write('\\nAdditional line')"
   ]
  },
  {
   "cell_type": "markdown",
   "id": "7425cef2",
   "metadata": {},
   "source": [
    "### Write a Python program that uses a try-except block to handle an error when attempting to access a dictionary key that doesn't exist"
   ]
  },
  {
   "cell_type": "code",
   "execution_count": null,
   "id": "a2e714a2",
   "metadata": {},
   "outputs": [],
   "source": [
    "my_dict = {'a': 1}\n",
    "try:\n",
    "    print(my_dict['b'])\n",
    "except KeyError:\n",
    "    print('Key does not exist.')"
   ]
  },
  {
   "cell_type": "markdown",
   "id": "f4537512",
   "metadata": {},
   "source": [
    "### Write a program that demonstrates using multiple except blocks to handle different types of exceptions"
   ]
  },
  {
   "cell_type": "code",
   "execution_count": null,
   "id": "7e2e2c6c",
   "metadata": {},
   "outputs": [],
   "source": [
    "try:\n",
    "    a = int('x')\n",
    "except ValueError:\n",
    "    print('Value error')\n",
    "except TypeError:\n",
    "    print('Type error')"
   ]
  },
  {
   "cell_type": "markdown",
   "id": "9ba4ee55",
   "metadata": {},
   "source": [
    "### How would you check if a file exists before attempting to read it in Python"
   ]
  },
  {
   "cell_type": "code",
   "execution_count": null,
   "id": "d546bd02",
   "metadata": {},
   "outputs": [],
   "source": [
    "import os\n",
    "if os.path.exists('file.txt'):\n",
    "    with open('file.txt') as f:\n",
    "        print(f.read())\n",
    "else:\n",
    "    print('File does not exist')"
   ]
  },
  {
   "cell_type": "markdown",
   "id": "c9dbafef",
   "metadata": {},
   "source": [
    "### Write a program that uses the logging module to log both informational and error messages"
   ]
  },
  {
   "cell_type": "code",
   "execution_count": null,
   "id": "ff186820",
   "metadata": {},
   "outputs": [],
   "source": [
    "import logging\n",
    "logging.basicConfig(level=logging.INFO)\n",
    "logging.info('Program started')\n",
    "try:\n",
    "    x = 1 / 0\n",
    "except ZeroDivisionError:\n",
    "    logging.error('Division by zero')"
   ]
  },
  {
   "cell_type": "markdown",
   "id": "0aa9ea7c",
   "metadata": {},
   "source": [
    "### Write a Python program that prints the content of a file and handles the case when the file is empty"
   ]
  },
  {
   "cell_type": "code",
   "execution_count": null,
   "id": "e3768cfd",
   "metadata": {},
   "outputs": [],
   "source": [
    "with open('file.txt', 'r') as f:\n",
    "    content = f.read()\n",
    "    if not content:\n",
    "        print('File is empty')\n",
    "    else:\n",
    "        print(content)"
   ]
  },
  {
   "cell_type": "markdown",
   "id": "07951ba0",
   "metadata": {},
   "source": [
    "### Demonstrate how to use memory profiling to check the memory usage of a small program"
   ]
  },
  {
   "cell_type": "code",
   "execution_count": null,
   "id": "4953bcba",
   "metadata": {},
   "outputs": [],
   "source": [
    "from memory_profiler import profile\n",
    "\n",
    "@profile\n",
    "def my_func():\n",
    "    a = [1] * (10**6)\n",
    "    return a\n",
    "\n",
    "my_func()"
   ]
  },
  {
   "cell_type": "markdown",
   "id": "eef3fe17",
   "metadata": {},
   "source": [
    "### Write a Python program to create and write a list of numbers to a file, one number per line"
   ]
  },
  {
   "cell_type": "code",
   "execution_count": null,
   "id": "7027d3d2",
   "metadata": {},
   "outputs": [],
   "source": [
    "numbers = list(range(10))\n",
    "with open('numbers.txt', 'w') as f:\n",
    "    for number in numbers:\n",
    "        f.write(f'{number}\\n')"
   ]
  },
  {
   "cell_type": "markdown",
   "id": "4260b3dd",
   "metadata": {},
   "source": [
    "### How would you implement a basic logging setup that logs to a file with rotation after 1MB"
   ]
  },
  {
   "cell_type": "code",
   "execution_count": null,
   "id": "d97b5fe5",
   "metadata": {},
   "outputs": [],
   "source": [
    "import logging\n",
    "from logging.handlers import RotatingFileHandler\n",
    "handler = RotatingFileHandler('app.log', maxBytes=1048576, backupCount=5)\n",
    "logging.basicConfig(handlers=[handler], level=logging.INFO)\n",
    "logging.info('Starting the program')"
   ]
  },
  {
   "cell_type": "markdown",
   "id": "ee379d3c",
   "metadata": {},
   "source": [
    "### Write a program that handles both IndexError and KeyError using a try-except block"
   ]
  },
  {
   "cell_type": "code",
   "execution_count": null,
   "id": "711e1e2d",
   "metadata": {},
   "outputs": [],
   "source": [
    "try:\n",
    "    lst = [1, 2, 3]\n",
    "    print(lst[5])\n",
    "    d = {'a': 1}\n",
    "    print(d['b'])\n",
    "except IndexError:\n",
    "    print('Index error')\n",
    "except KeyError:\n",
    "    print('Key error')"
   ]
  },
  {
   "cell_type": "markdown",
   "id": "0b96dd94",
   "metadata": {},
   "source": [
    "### How would you open a file and read its contents using a context manager in Python"
   ]
  },
  {
   "cell_type": "code",
   "execution_count": null,
   "id": "9ef36ff1",
   "metadata": {},
   "outputs": [],
   "source": [
    "with open('file.txt', 'r') as f:\n",
    "    print(f.read())"
   ]
  },
  {
   "cell_type": "markdown",
   "id": "00df7d63",
   "metadata": {},
   "source": [
    "### Write a Python program that reads a file and prints the number of occurrences of a specific word"
   ]
  },
  {
   "cell_type": "code",
   "execution_count": null,
   "id": "879f1b7a",
   "metadata": {},
   "outputs": [],
   "source": [
    "word = 'hello'\n",
    "count = 0\n",
    "with open('file.txt', 'r') as f:\n",
    "    for line in f:\n",
    "        count += line.count(word)\n",
    "print(f'Occurrences of {word}:', count)"
   ]
  },
  {
   "cell_type": "markdown",
   "id": "1bdad10d",
   "metadata": {},
   "source": [
    "### How can you check if a file is empty before attempting to read its contents"
   ]
  },
  {
   "cell_type": "code",
   "execution_count": null,
   "id": "d499b377",
   "metadata": {},
   "outputs": [],
   "source": [
    "import os\n",
    "if os.stat('file.txt').st_size == 0:\n",
    "    print('File is empty')\n",
    "else:\n",
    "    with open('file.txt') as f:\n",
    "        print(f.read())"
   ]
  },
  {
   "cell_type": "markdown",
   "id": "3e38862c",
   "metadata": {},
   "source": [
    "### Write a Python program that writes to a log file when an error occurs during file handling."
   ]
  },
  {
   "cell_type": "code",
   "execution_count": null,
   "id": "2627b829",
   "metadata": {},
   "outputs": [],
   "source": [
    "import logging\n",
    "logging.basicConfig(filename='error.log', level=logging.ERROR)\n",
    "try:\n",
    "    with open('file.txt', 'r') as f:\n",
    "        print(f.read())\n",
    "except Exception as e:\n",
    "    logging.error('Error occurred: %s', e)"
   ]
  }
 ],
 "metadata": {},
 "nbformat": 4,
 "nbformat_minor": 5
}
