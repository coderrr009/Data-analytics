{
  "cells": [
    {
      "cell_type": "markdown",
      "id": "15ba6bfe",
      "metadata": {
        "id": "15ba6bfe"
      },
      "source": [
        "# Theory Questions"
      ]
    },
    {
      "cell_type": "markdown",
      "id": "fa015912",
      "metadata": {
        "id": "fa015912"
      },
      "source": [
        "### What is the difference between interpreted and compiled languages"
      ]
    },
    {
      "cell_type": "markdown",
      "id": "d861b6ee",
      "metadata": {
        "id": "d861b6ee"
      },
      "source": [
        "**Compiled Languages**: Translated into machine code before execution. Faster but platform-dependent.  \n",
        "**Interpreted Languages**: Executed line-by-line by an interpreter. Slower but more portable.  \n",
        "Examples: C (compiled), Python (interpreted)"
      ]
    },
    {
      "cell_type": "markdown",
      "id": "17fccd93",
      "metadata": {
        "id": "17fccd93"
      },
      "source": [
        "### What is exception handling in Python"
      ]
    },
    {
      "cell_type": "markdown",
      "id": "9a363803",
      "metadata": {
        "id": "9a363803"
      },
      "source": [
        "Exception handling lets you manage runtime errors using `try`, `except`, `else`, and `finally` blocks.  \n",
        "It prevents crashes and allows graceful error recovery."
      ]
    },
    {
      "cell_type": "markdown",
      "id": "7bba0f21",
      "metadata": {
        "id": "7bba0f21"
      },
      "source": [
        "### What is the purpose of the finally block in exception handling"
      ]
    },
    {
      "cell_type": "markdown",
      "id": "8fb6e4aa",
      "metadata": {
        "id": "8fb6e4aa"
      },
      "source": [
        "The `finally` block is used for cleanup actions (e.g., closing files), and it always runs, whether an exception occurs or not."
      ]
    },
    {
      "cell_type": "markdown",
      "id": "035e92ef",
      "metadata": {
        "id": "035e92ef"
      },
      "source": [
        "### What is logging in Python"
      ]
    },
    {
      "cell_type": "markdown",
      "id": "3957fb91",
      "metadata": {
        "id": "3957fb91"
      },
      "source": [
        "Logging allows you to record messages about your program's execution for debugging and monitoring.  \n",
        "It uses levels like DEBUG, INFO, WARNING, ERROR, and CRITICAL."
      ]
    },
    {
      "cell_type": "markdown",
      "id": "f0959762",
      "metadata": {
        "id": "f0959762"
      },
      "source": [
        "### What is the significance of the __del__ method in Python"
      ]
    },
    {
      "cell_type": "markdown",
      "id": "f657d406",
      "metadata": {
        "id": "f657d406"
      },
      "source": [
        "The `__del__` method is a destructor that is called when an object is about to be destroyed.  \n",
        "Used to clean up resources like files or network connections."
      ]
    },
    {
      "cell_type": "markdown",
      "id": "fa3bc9de",
      "metadata": {
        "id": "fa3bc9de"
      },
      "source": [
        "### What is the difference between import and from ... import in Python"
      ]
    },
    {
      "cell_type": "markdown",
      "id": "da44dcb9",
      "metadata": {
        "id": "da44dcb9"
      },
      "source": [
        "`import module` imports the whole module.  \n",
        "`from module import function` imports specific parts.  \n",
        "E.g., `import math` vs `from math import sqrt`."
      ]
    },
    {
      "cell_type": "markdown",
      "id": "ba1816d4",
      "metadata": {
        "id": "ba1816d4"
      },
      "source": [
        "### How can you handle multiple exceptions in Python"
      ]
    },
    {
      "cell_type": "markdown",
      "id": "d1485221",
      "metadata": {
        "id": "d1485221"
      },
      "source": [
        "Use multiple `except` blocks for different exceptions or combine them using a tuple:  \n",
        "```python\n",
        "try: ...  \n",
        "except (TypeError, ValueError): ...```"
      ]
    },
    {
      "cell_type": "markdown",
      "id": "eded7808",
      "metadata": {
        "id": "eded7808"
      },
      "source": [
        "The `with` statement ensures proper file opening and automatic closing, even if an error occurs."
      ]
    },
    {
      "cell_type": "code",
      "execution_count": null,
      "id": "cbf793cb",
      "metadata": {
        "id": "cbf793cb"
      },
      "outputs": [],
      "source": [
        "# Write your explanation here"
      ]
    },
    {
      "cell_type": "markdown",
      "id": "c33061e9",
      "metadata": {
        "id": "c33061e9"
      },
      "source": [
        "### What is the difference between multithreading and multiprocessing"
      ]
    },
    {
      "cell_type": "markdown",
      "id": "f1f58a72",
      "metadata": {
        "id": "f1f58a72"
      },
      "source": [
        "**Multithreading**: Multiple threads within the same process (shared memory).  \n",
        "**Multiprocessing**: Multiple processes with separate memory (better CPU utilization)."
      ]
    },
    {
      "cell_type": "markdown",
      "id": "685df90c",
      "metadata": {
        "id": "685df90c"
      },
      "source": [
        "### What are the advantages of using logging in a program"
      ]
    },
    {
      "cell_type": "markdown",
      "id": "d84c6cec",
      "metadata": {
        "id": "d84c6cec"
      },
      "source": [
        "- Better than print for debugging  \n",
        "- Supports levels and outputs to files  \n",
        "- Helps in production monitoring and error tracking"
      ]
    },
    {
      "cell_type": "markdown",
      "id": "beca739a",
      "metadata": {
        "id": "beca739a"
      },
      "source": [
        "### What is memory management in Python"
      ]
    },
    {
      "cell_type": "markdown",
      "id": "b381f6f2",
      "metadata": {
        "id": "b381f6f2"
      },
      "source": [
        "Memory management handles allocation and deallocation of memory.  \n",
        "Python uses reference counting and garbage collection."
      ]
    },
    {
      "cell_type": "markdown",
      "id": "4c92cf67",
      "metadata": {
        "id": "4c92cf67"
      },
      "source": [
        "### What are the basic steps involved in exception handling in Python"
      ]
    },
    {
      "cell_type": "markdown",
      "id": "7ecc33eb",
      "metadata": {
        "id": "7ecc33eb"
      },
      "source": [
        "1. `try` block: code that may fail  \n",
        "2. `except` block: handles the error  \n",
        "3. `else` block: runs if no error  \n",
        "4. `finally` block: runs always"
      ]
    },
    {
      "cell_type": "markdown",
      "id": "4d6712ed",
      "metadata": {
        "id": "4d6712ed"
      },
      "source": [
        "### Why is memory management important in Python"
      ]
    },
    {
      "cell_type": "markdown",
      "id": "7d170d5f",
      "metadata": {
        "id": "7d170d5f"
      },
      "source": [
        "Efficient memory management prevents memory leaks and ensures optimal performance and scalability."
      ]
    },
    {
      "cell_type": "markdown",
      "id": "83bac340",
      "metadata": {
        "id": "83bac340"
      },
      "source": [
        "### What is the role of try and except in exception handling"
      ]
    },
    {
      "cell_type": "markdown",
      "id": "9776dd9d",
      "metadata": {
        "id": "9776dd9d"
      },
      "source": [
        "`try` block runs potentially problematic code.  \n",
        "`except` block handles specific or general exceptions that may occur."
      ]
    },
    {
      "cell_type": "markdown",
      "id": "cae2f88b",
      "metadata": {
        "id": "cae2f88b"
      },
      "source": [
        "### How does Python's garbage collection system work"
      ]
    },
    {
      "cell_type": "markdown",
      "id": "9a573247",
      "metadata": {
        "id": "9a573247"
      },
      "source": [
        "It uses reference counting and a cyclic garbage collector to clean up unreferenced memory automatically."
      ]
    },
    {
      "cell_type": "markdown",
      "id": "dd7a6707",
      "metadata": {
        "id": "dd7a6707"
      },
      "source": [
        "### What is the purpose of the else block in exception handling"
      ]
    },
    {
      "cell_type": "markdown",
      "id": "575c5ed1",
      "metadata": {
        "id": "575c5ed1"
      },
      "source": [
        "The `else` block runs if no exceptions occur in the `try` block. Keeps success logic separate from error handling."
      ]
    },
    {
      "cell_type": "markdown",
      "id": "36680295",
      "metadata": {
        "id": "36680295"
      },
      "source": [
        "### What are the common logging levels in Python"
      ]
    },
    {
      "cell_type": "markdown",
      "id": "767e555f",
      "metadata": {
        "id": "767e555f"
      },
      "source": [
        "- DEBUG  \n",
        "- INFO  \n",
        "- WARNING  \n",
        "- ERROR  \n",
        "- CRITICAL"
      ]
    },
    {
      "cell_type": "markdown",
      "id": "6fedb4d0",
      "metadata": {
        "id": "6fedb4d0"
      },
      "source": [
        "### What is the difference between os.fork() and multiprocessing in Python"
      ]
    },
    {
      "cell_type": "markdown",
      "id": "26950c51",
      "metadata": {
        "id": "26950c51"
      },
      "source": [
        "`os.fork()` creates a new process (Unix only).  \n",
        "`multiprocessing` is a cross-platform module for spawning processes with better control and API."
      ]
    },
    {
      "cell_type": "markdown",
      "id": "457f5bdc",
      "metadata": {
        "id": "457f5bdc"
      },
      "source": [
        "### What is the importance of closing a file in Python"
      ]
    },
    {
      "cell_type": "markdown",
      "id": "a56efc82",
      "metadata": {
        "id": "a56efc82"
      },
      "source": [
        "Closing a file frees up system resources and ensures data is written properly. Use `file.close()` or a `with` block."
      ]
    },
    {
      "cell_type": "markdown",
      "id": "6a1293c4",
      "metadata": {
        "id": "6a1293c4"
      },
      "source": [
        "### What is the difference between file.read() and file.readline() in Python"
      ]
    },
    {
      "cell_type": "markdown",
      "id": "84e37211",
      "metadata": {
        "id": "84e37211"
      },
      "source": [
        "`file.read()` reads the whole file.  \n",
        "`file.readline()` reads one line at a time."
      ]
    },
    {
      "cell_type": "markdown",
      "id": "932e6e5b",
      "metadata": {
        "id": "932e6e5b"
      },
      "source": [
        "### What is the logging module in Python used for"
      ]
    },
    {
      "cell_type": "markdown",
      "id": "3cd1acff",
      "metadata": {
        "id": "3cd1acff"
      },
      "source": [
        "The `logging` module is used to track events in software using different log levels and output formats."
      ]
    },
    {
      "cell_type": "markdown",
      "id": "972f7731",
      "metadata": {
        "id": "972f7731"
      },
      "source": [
        "### What is the os module in Python used for in file handling"
      ]
    },
    {
      "cell_type": "markdown",
      "id": "023d8c9f",
      "metadata": {
        "id": "023d8c9f"
      },
      "source": [
        "The `os` module allows interaction with the operating system: file paths, directory management, file checks, etc."
      ]
    },
    {
      "cell_type": "markdown",
      "id": "b7b78232",
      "metadata": {
        "id": "b7b78232"
      },
      "source": [
        "### What are the challenges associated with memory management in Python"
      ]
    },
    {
      "cell_type": "markdown",
      "id": "8a16ca18",
      "metadata": {
        "id": "8a16ca18"
      },
      "source": [
        "- Circular references  \n",
        "- Memory leaks  \n",
        "- Overhead of garbage collector"
      ]
    },
    {
      "cell_type": "markdown",
      "id": "0b9a4078",
      "metadata": {
        "id": "0b9a4078"
      },
      "source": [
        "### How do you raise an exception manually in Python"
      ]
    },
    {
      "cell_type": "markdown",
      "id": "96bcc51b",
      "metadata": {
        "id": "96bcc51b"
      },
      "source": [
        "Use the `raise` keyword:  \n",
        "```python  \n",
        "raise ValueError(\"Invalid input\")  \n",
        "```"
      ]
    },
    {
      "cell_type": "markdown",
      "id": "2ea52d3c",
      "metadata": {
        "id": "2ea52d3c"
      },
      "source": [
        "### Why is it important to use multithreading in certain applications?"
      ]
    },
    {
      "cell_type": "markdown",
      "id": "efe084e7",
      "metadata": {
        "id": "efe084e7"
      },
      "source": [
        "Multithreading improves performance in I/O-bound tasks and allows simultaneous operations, like GUI responsiveness or handling multiple clients."
      ]
    },
    {
      "cell_type": "markdown",
      "id": "323aea37",
      "metadata": {
        "id": "323aea37"
      },
      "source": [
        "# Practical Questions"
      ]
    },
    {
      "cell_type": "markdown",
      "id": "b35911e7",
      "metadata": {
        "id": "b35911e7"
      },
      "source": [
        "### How can you open a file for writing in Python and write a string to it"
      ]
    },
    {
      "cell_type": "code",
      "execution_count": null,
      "id": "2bae5f99",
      "metadata": {
        "id": "2bae5f99"
      },
      "outputs": [],
      "source": [
        "with open('example.txt', 'w') as f:\n",
        "    f.write('Hello, World!')"
      ]
    },
    {
      "cell_type": "markdown",
      "id": "d42af7f8",
      "metadata": {
        "id": "d42af7f8"
      },
      "source": [
        "### Write a Python program to read the contents of a file and print each line"
      ]
    },
    {
      "cell_type": "code",
      "execution_count": null,
      "id": "546e7029",
      "metadata": {
        "id": "546e7029"
      },
      "outputs": [],
      "source": [
        "with open('example.txt', 'r') as f:\n",
        "    for line in f:\n",
        "        print(line.strip())"
      ]
    },
    {
      "cell_type": "markdown",
      "id": "cc170500",
      "metadata": {
        "id": "cc170500"
      },
      "source": [
        "### How would you handle a case where the file doesn't exist while trying to open it for reading"
      ]
    },
    {
      "cell_type": "code",
      "execution_count": null,
      "id": "8b0b9f35",
      "metadata": {
        "id": "8b0b9f35"
      },
      "outputs": [],
      "source": [
        "try:\n",
        "    with open('nonexistent.txt', 'r') as f:\n",
        "        content = f.read()\n",
        "except FileNotFoundError:\n",
        "    print('File not found.')"
      ]
    },
    {
      "cell_type": "markdown",
      "id": "85c84603",
      "metadata": {
        "id": "85c84603"
      },
      "source": [
        "### Write a Python script that reads from one file and writes its content to another file"
      ]
    },
    {
      "cell_type": "code",
      "execution_count": null,
      "id": "70ba383f",
      "metadata": {
        "id": "70ba383f"
      },
      "outputs": [],
      "source": [
        "with open('source.txt', 'r') as src, open('destination.txt', 'w') as dst:\n",
        "    dst.write(src.read())"
      ]
    },
    {
      "cell_type": "markdown",
      "id": "1e58daae",
      "metadata": {
        "id": "1e58daae"
      },
      "source": [
        "### How would you catch and handle division by zero error in Python"
      ]
    },
    {
      "cell_type": "code",
      "execution_count": null,
      "id": "88aa08a5",
      "metadata": {
        "id": "88aa08a5"
      },
      "outputs": [],
      "source": [
        "try:\n",
        "    result = 10 / 0\n",
        "except ZeroDivisionError:\n",
        "    print('Division by zero error.')"
      ]
    },
    {
      "cell_type": "markdown",
      "id": "bac8f1f0",
      "metadata": {
        "id": "bac8f1f0"
      },
      "source": [
        "### Write a Python program that logs an error message to a log file when a division by zero exception occurs"
      ]
    },
    {
      "cell_type": "code",
      "execution_count": null,
      "id": "0382e962",
      "metadata": {
        "id": "0382e962"
      },
      "outputs": [],
      "source": [
        "import logging\n",
        "logging.basicConfig(filename='app.log', level=logging.ERROR)\n",
        "try:\n",
        "    x = 1 / 0\n",
        "except ZeroDivisionError as e:\n",
        "    logging.error('Division by zero occurred: %s', e)"
      ]
    },
    {
      "cell_type": "markdown",
      "id": "3f20f924",
      "metadata": {
        "id": "3f20f924"
      },
      "source": [
        "### How do you log information at different levels (INFO, ERROR, WARNING) in Python using the logging module"
      ]
    },
    {
      "cell_type": "code",
      "execution_count": null,
      "id": "0b56eadf",
      "metadata": {
        "id": "0b56eadf"
      },
      "outputs": [],
      "source": [
        "import logging\n",
        "logging.basicConfig(level=logging.DEBUG)\n",
        "logging.info('This is an info message')\n",
        "logging.warning('This is a warning')\n",
        "logging.error('This is an error')"
      ]
    },
    {
      "cell_type": "markdown",
      "id": "0f0714da",
      "metadata": {
        "id": "0f0714da"
      },
      "source": [
        "### Write a program to handle a file opening error using exception handling"
      ]
    },
    {
      "cell_type": "code",
      "execution_count": null,
      "id": "0f93835a",
      "metadata": {
        "id": "0f93835a"
      },
      "outputs": [],
      "source": [
        "try:\n",
        "    with open('file.txt', 'r') as f:\n",
        "        print(f.read())\n",
        "except FileNotFoundError:\n",
        "    print('The file was not found.')"
      ]
    },
    {
      "cell_type": "markdown",
      "id": "23e746ae",
      "metadata": {
        "id": "23e746ae"
      },
      "source": [
        "### How can you read a file line by line and store its content in a list in Python"
      ]
    },
    {
      "cell_type": "code",
      "execution_count": null,
      "id": "90dfb7f2",
      "metadata": {
        "id": "90dfb7f2"
      },
      "outputs": [],
      "source": [
        "with open('example.txt', 'r') as f:\n",
        "    lines = f.readlines()\n",
        "print(lines)"
      ]
    },
    {
      "cell_type": "markdown",
      "id": "a8223a9b",
      "metadata": {
        "id": "a8223a9b"
      },
      "source": [
        "### How can you append data to an existing file in Python"
      ]
    },
    {
      "cell_type": "code",
      "execution_count": null,
      "id": "26485bb9",
      "metadata": {
        "id": "26485bb9"
      },
      "outputs": [],
      "source": [
        "with open('example.txt', 'a') as f:\n",
        "    f.write('\\nAdditional line')"
      ]
    },
    {
      "cell_type": "markdown",
      "id": "7425cef2",
      "metadata": {
        "id": "7425cef2"
      },
      "source": [
        "### Write a Python program that uses a try-except block to handle an error when attempting to access a dictionary key that doesn't exist"
      ]
    },
    {
      "cell_type": "code",
      "execution_count": null,
      "id": "a2e714a2",
      "metadata": {
        "id": "a2e714a2"
      },
      "outputs": [],
      "source": [
        "my_dict = {'a': 1}\n",
        "try:\n",
        "    print(my_dict['b'])\n",
        "except KeyError:\n",
        "    print('Key does not exist.')"
      ]
    },
    {
      "cell_type": "markdown",
      "id": "f4537512",
      "metadata": {
        "id": "f4537512"
      },
      "source": [
        "### Write a program that demonstrates using multiple except blocks to handle different types of exceptions"
      ]
    },
    {
      "cell_type": "code",
      "execution_count": null,
      "id": "7e2e2c6c",
      "metadata": {
        "id": "7e2e2c6c"
      },
      "outputs": [],
      "source": [
        "try:\n",
        "    a = int('x')\n",
        "except ValueError:\n",
        "    print('Value error')\n",
        "except TypeError:\n",
        "    print('Type error')"
      ]
    },
    {
      "cell_type": "markdown",
      "id": "9ba4ee55",
      "metadata": {
        "id": "9ba4ee55"
      },
      "source": [
        "### How would you check if a file exists before attempting to read it in Python"
      ]
    },
    {
      "cell_type": "code",
      "execution_count": null,
      "id": "d546bd02",
      "metadata": {
        "id": "d546bd02"
      },
      "outputs": [],
      "source": [
        "import os\n",
        "if os.path.exists('file.txt'):\n",
        "    with open('file.txt') as f:\n",
        "        print(f.read())\n",
        "else:\n",
        "    print('File does not exist')"
      ]
    },
    {
      "cell_type": "markdown",
      "id": "c9dbafef",
      "metadata": {
        "id": "c9dbafef"
      },
      "source": [
        "### Write a program that uses the logging module to log both informational and error messages"
      ]
    },
    {
      "cell_type": "code",
      "execution_count": null,
      "id": "ff186820",
      "metadata": {
        "id": "ff186820"
      },
      "outputs": [],
      "source": [
        "import logging\n",
        "logging.basicConfig(level=logging.INFO)\n",
        "logging.info('Program started')\n",
        "try:\n",
        "    x = 1 / 0\n",
        "except ZeroDivisionError:\n",
        "    logging.error('Division by zero')"
      ]
    },
    {
      "cell_type": "markdown",
      "id": "0aa9ea7c",
      "metadata": {
        "id": "0aa9ea7c"
      },
      "source": [
        "### Write a Python program that prints the content of a file and handles the case when the file is empty"
      ]
    },
    {
      "cell_type": "code",
      "execution_count": null,
      "id": "e3768cfd",
      "metadata": {
        "id": "e3768cfd"
      },
      "outputs": [],
      "source": [
        "with open('file.txt', 'r') as f:\n",
        "    content = f.read()\n",
        "    if not content:\n",
        "        print('File is empty')\n",
        "    else:\n",
        "        print(content)"
      ]
    },
    {
      "cell_type": "markdown",
      "id": "07951ba0",
      "metadata": {
        "id": "07951ba0"
      },
      "source": [
        "### Demonstrate how to use memory profiling to check the memory usage of a small program"
      ]
    },
    {
      "cell_type": "code",
      "execution_count": null,
      "id": "4953bcba",
      "metadata": {
        "id": "4953bcba"
      },
      "outputs": [],
      "source": [
        "from memory_profiler import profile\n",
        "\n",
        "@profile\n",
        "def my_func():\n",
        "    a = [1] * (10**6)\n",
        "    return a\n",
        "\n",
        "my_func()"
      ]
    },
    {
      "cell_type": "markdown",
      "id": "eef3fe17",
      "metadata": {
        "id": "eef3fe17"
      },
      "source": [
        "### Write a Python program to create and write a list of numbers to a file, one number per line"
      ]
    },
    {
      "cell_type": "code",
      "execution_count": null,
      "id": "7027d3d2",
      "metadata": {
        "id": "7027d3d2"
      },
      "outputs": [],
      "source": [
        "numbers = list(range(10))\n",
        "with open('numbers.txt', 'w') as f:\n",
        "    for number in numbers:\n",
        "        f.write(f'{number}\\n')"
      ]
    },
    {
      "cell_type": "markdown",
      "id": "4260b3dd",
      "metadata": {
        "id": "4260b3dd"
      },
      "source": [
        "### How would you implement a basic logging setup that logs to a file with rotation after 1MB"
      ]
    },
    {
      "cell_type": "code",
      "execution_count": null,
      "id": "d97b5fe5",
      "metadata": {
        "id": "d97b5fe5"
      },
      "outputs": [],
      "source": [
        "import logging\n",
        "from logging.handlers import RotatingFileHandler\n",
        "handler = RotatingFileHandler('app.log', maxBytes=1048576, backupCount=5)\n",
        "logging.basicConfig(handlers=[handler], level=logging.INFO)\n",
        "logging.info('Starting the program')"
      ]
    },
    {
      "cell_type": "markdown",
      "id": "ee379d3c",
      "metadata": {
        "id": "ee379d3c"
      },
      "source": [
        "### Write a program that handles both IndexError and KeyError using a try-except block"
      ]
    },
    {
      "cell_type": "code",
      "execution_count": null,
      "id": "711e1e2d",
      "metadata": {
        "id": "711e1e2d"
      },
      "outputs": [],
      "source": [
        "try:\n",
        "    lst = [1, 2, 3]\n",
        "    print(lst[5])\n",
        "    d = {'a': 1}\n",
        "    print(d['b'])\n",
        "except IndexError:\n",
        "    print('Index error')\n",
        "except KeyError:\n",
        "    print('Key error')"
      ]
    },
    {
      "cell_type": "markdown",
      "id": "0b96dd94",
      "metadata": {
        "id": "0b96dd94"
      },
      "source": [
        "### How would you open a file and read its contents using a context manager in Python"
      ]
    },
    {
      "cell_type": "code",
      "execution_count": null,
      "id": "9ef36ff1",
      "metadata": {
        "id": "9ef36ff1"
      },
      "outputs": [],
      "source": [
        "with open('file.txt', 'r') as f:\n",
        "    print(f.read())"
      ]
    },
    {
      "cell_type": "markdown",
      "id": "00df7d63",
      "metadata": {
        "id": "00df7d63"
      },
      "source": [
        "### Write a Python program that reads a file and prints the number of occurrences of a specific word"
      ]
    },
    {
      "cell_type": "code",
      "execution_count": null,
      "id": "879f1b7a",
      "metadata": {
        "id": "879f1b7a"
      },
      "outputs": [],
      "source": [
        "word = 'hello'\n",
        "count = 0\n",
        "with open('file.txt', 'r') as f:\n",
        "    for line in f:\n",
        "        count += line.count(word)\n",
        "print(f'Occurrences of {word}:', count)"
      ]
    },
    {
      "cell_type": "markdown",
      "id": "1bdad10d",
      "metadata": {
        "id": "1bdad10d"
      },
      "source": [
        "### How can you check if a file is empty before attempting to read its contents"
      ]
    },
    {
      "cell_type": "code",
      "execution_count": null,
      "id": "d499b377",
      "metadata": {
        "id": "d499b377"
      },
      "outputs": [],
      "source": [
        "import os\n",
        "if os.stat('file.txt').st_size == 0:\n",
        "    print('File is empty')\n",
        "else:\n",
        "    with open('file.txt') as f:\n",
        "        print(f.read())"
      ]
    },
    {
      "cell_type": "markdown",
      "id": "3e38862c",
      "metadata": {
        "id": "3e38862c"
      },
      "source": [
        "### Write a Python program that writes to a log file when an error occurs during file handling."
      ]
    },
    {
      "cell_type": "code",
      "execution_count": null,
      "id": "2627b829",
      "metadata": {
        "id": "2627b829"
      },
      "outputs": [],
      "source": [
        "import logging\n",
        "logging.basicConfig(filename='error.log', level=logging.ERROR)\n",
        "try:\n",
        "    with open('file.txt', 'r') as f:\n",
        "        print(f.read())\n",
        "except Exception as e:\n",
        "    logging.error('Error occurred: %s', e)"
      ]
    }
  ],
  "metadata": {
    "colab": {
      "provenance": []
    }
  },
  "nbformat": 4,
  "nbformat_minor": 5
}